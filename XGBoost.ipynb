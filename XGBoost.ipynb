{
 "cells": [
  {
   "cell_type": "code",
   "execution_count": 66,
   "id": "d1a01983",
   "metadata": {
    "execution": {
     "iopub.execute_input": "2024-02-26T07:59:16.692638Z",
     "iopub.status.busy": "2024-02-26T07:59:16.692268Z",
     "iopub.status.idle": "2024-02-26T07:59:17.465697Z",
     "shell.execute_reply": "2024-02-26T07:59:17.464865Z"
    },
    "papermill": {
     "duration": 0.804696,
     "end_time": "2024-02-26T07:59:17.468048",
     "exception": false,
     "start_time": "2024-02-26T07:59:16.663352",
     "status": "completed"
    },
    "tags": []
   },
   "outputs": [],
   "source": [
    "import numpy as np\n",
    "import pandas as pd"
   ]
  },
  {
   "cell_type": "code",
   "execution_count": 67,
   "id": "532de090",
   "metadata": {
    "execution": {
     "iopub.execute_input": "2024-02-26T07:59:17.619891Z",
     "iopub.status.busy": "2024-02-26T07:59:17.619429Z",
     "iopub.status.idle": "2024-02-26T07:59:17.812218Z",
     "shell.execute_reply": "2024-02-26T07:59:17.811169Z"
    },
    "papermill": {
     "duration": 0.224275,
     "end_time": "2024-02-26T07:59:17.814572",
     "exception": false,
     "start_time": "2024-02-26T07:59:17.590297",
     "status": "completed"
    },
    "tags": []
   },
   "outputs": [],
   "source": [
    "train = pd.read_csv(\"dataset/train.csv\").set_index(\"id\")\n",
    "test = pd.read_csv(\"dataset/test.csv\").set_index(\"id\")"
   ]
  },
  {
   "cell_type": "code",
   "execution_count": 68,
   "id": "0efd9be4",
   "metadata": {
    "execution": {
     "iopub.execute_input": "2024-02-26T07:59:17.873439Z",
     "iopub.status.busy": "2024-02-26T07:59:17.873063Z",
     "iopub.status.idle": "2024-02-26T07:59:17.880111Z",
     "shell.execute_reply": "2024-02-26T07:59:17.879261Z"
    },
    "papermill": {
     "duration": 0.038412,
     "end_time": "2024-02-26T07:59:17.882051",
     "exception": false,
     "start_time": "2024-02-26T07:59:17.843639",
     "status": "completed"
    },
    "tags": []
   },
   "outputs": [
    {
     "data": {
      "text/plain": [
       "Index(['Gender', 'Age', 'Height', 'Weight', 'family_history_with_overweight',\n",
       "       'FAVC', 'FCVC', 'NCP', 'CAEC', 'SMOKE', 'CH2O', 'SCC', 'FAF', 'TUE',\n",
       "       'CALC', 'MTRANS', 'NObeyesdad'],\n",
       "      dtype='object')"
      ]
     },
     "execution_count": 68,
     "metadata": {},
     "output_type": "execute_result"
    }
   ],
   "source": [
    "train.columns"
   ]
  },
  {
   "cell_type": "code",
   "execution_count": 69,
   "id": "b27e60fc",
   "metadata": {
    "execution": {
     "iopub.execute_input": "2024-02-26T07:59:17.939874Z",
     "iopub.status.busy": "2024-02-26T07:59:17.939599Z",
     "iopub.status.idle": "2024-02-26T07:59:17.956326Z",
     "shell.execute_reply": "2024-02-26T07:59:17.955450Z"
    },
    "papermill": {
     "duration": 0.047982,
     "end_time": "2024-02-26T07:59:17.958448",
     "exception": false,
     "start_time": "2024-02-26T07:59:17.910466",
     "status": "completed"
    },
    "tags": []
   },
   "outputs": [
    {
     "name": "stdout",
     "output_type": "stream",
     "text": [
      "(20758, 17)\n"
     ]
    },
    {
     "data": {
      "text/html": [
       "<div>\n",
       "<style scoped>\n",
       "    .dataframe tbody tr th:only-of-type {\n",
       "        vertical-align: middle;\n",
       "    }\n",
       "\n",
       "    .dataframe tbody tr th {\n",
       "        vertical-align: top;\n",
       "    }\n",
       "\n",
       "    .dataframe thead th {\n",
       "        text-align: right;\n",
       "    }\n",
       "</style>\n",
       "<table border=\"1\" class=\"dataframe\">\n",
       "  <thead>\n",
       "    <tr style=\"text-align: right;\">\n",
       "      <th></th>\n",
       "      <th>Gender</th>\n",
       "      <th>Age</th>\n",
       "      <th>Height</th>\n",
       "      <th>Weight</th>\n",
       "      <th>family_history_with_overweight</th>\n",
       "      <th>FAVC</th>\n",
       "      <th>FCVC</th>\n",
       "      <th>NCP</th>\n",
       "      <th>CAEC</th>\n",
       "      <th>SMOKE</th>\n",
       "      <th>CH2O</th>\n",
       "      <th>SCC</th>\n",
       "      <th>FAF</th>\n",
       "      <th>TUE</th>\n",
       "      <th>CALC</th>\n",
       "      <th>MTRANS</th>\n",
       "      <th>NObeyesdad</th>\n",
       "    </tr>\n",
       "    <tr>\n",
       "      <th>id</th>\n",
       "      <th></th>\n",
       "      <th></th>\n",
       "      <th></th>\n",
       "      <th></th>\n",
       "      <th></th>\n",
       "      <th></th>\n",
       "      <th></th>\n",
       "      <th></th>\n",
       "      <th></th>\n",
       "      <th></th>\n",
       "      <th></th>\n",
       "      <th></th>\n",
       "      <th></th>\n",
       "      <th></th>\n",
       "      <th></th>\n",
       "      <th></th>\n",
       "      <th></th>\n",
       "    </tr>\n",
       "  </thead>\n",
       "  <tbody>\n",
       "    <tr>\n",
       "      <th>0</th>\n",
       "      <td>Male</td>\n",
       "      <td>24.443011</td>\n",
       "      <td>1.699998</td>\n",
       "      <td>81.669950</td>\n",
       "      <td>yes</td>\n",
       "      <td>yes</td>\n",
       "      <td>2.000000</td>\n",
       "      <td>2.983297</td>\n",
       "      <td>Sometimes</td>\n",
       "      <td>no</td>\n",
       "      <td>2.763573</td>\n",
       "      <td>no</td>\n",
       "      <td>0.000000</td>\n",
       "      <td>0.976473</td>\n",
       "      <td>Sometimes</td>\n",
       "      <td>Public_Transportation</td>\n",
       "      <td>Overweight_Level_II</td>\n",
       "    </tr>\n",
       "    <tr>\n",
       "      <th>1</th>\n",
       "      <td>Female</td>\n",
       "      <td>18.000000</td>\n",
       "      <td>1.560000</td>\n",
       "      <td>57.000000</td>\n",
       "      <td>yes</td>\n",
       "      <td>yes</td>\n",
       "      <td>2.000000</td>\n",
       "      <td>3.000000</td>\n",
       "      <td>Frequently</td>\n",
       "      <td>no</td>\n",
       "      <td>2.000000</td>\n",
       "      <td>no</td>\n",
       "      <td>1.000000</td>\n",
       "      <td>1.000000</td>\n",
       "      <td>no</td>\n",
       "      <td>Automobile</td>\n",
       "      <td>Normal_Weight</td>\n",
       "    </tr>\n",
       "    <tr>\n",
       "      <th>2</th>\n",
       "      <td>Female</td>\n",
       "      <td>18.000000</td>\n",
       "      <td>1.711460</td>\n",
       "      <td>50.165754</td>\n",
       "      <td>yes</td>\n",
       "      <td>yes</td>\n",
       "      <td>1.880534</td>\n",
       "      <td>1.411685</td>\n",
       "      <td>Sometimes</td>\n",
       "      <td>no</td>\n",
       "      <td>1.910378</td>\n",
       "      <td>no</td>\n",
       "      <td>0.866045</td>\n",
       "      <td>1.673584</td>\n",
       "      <td>no</td>\n",
       "      <td>Public_Transportation</td>\n",
       "      <td>Insufficient_Weight</td>\n",
       "    </tr>\n",
       "    <tr>\n",
       "      <th>3</th>\n",
       "      <td>Female</td>\n",
       "      <td>20.952737</td>\n",
       "      <td>1.710730</td>\n",
       "      <td>131.274851</td>\n",
       "      <td>yes</td>\n",
       "      <td>yes</td>\n",
       "      <td>3.000000</td>\n",
       "      <td>3.000000</td>\n",
       "      <td>Sometimes</td>\n",
       "      <td>no</td>\n",
       "      <td>1.674061</td>\n",
       "      <td>no</td>\n",
       "      <td>1.467863</td>\n",
       "      <td>0.780199</td>\n",
       "      <td>Sometimes</td>\n",
       "      <td>Public_Transportation</td>\n",
       "      <td>Obesity_Type_III</td>\n",
       "    </tr>\n",
       "    <tr>\n",
       "      <th>4</th>\n",
       "      <td>Male</td>\n",
       "      <td>31.641081</td>\n",
       "      <td>1.914186</td>\n",
       "      <td>93.798055</td>\n",
       "      <td>yes</td>\n",
       "      <td>yes</td>\n",
       "      <td>2.679664</td>\n",
       "      <td>1.971472</td>\n",
       "      <td>Sometimes</td>\n",
       "      <td>no</td>\n",
       "      <td>1.979848</td>\n",
       "      <td>no</td>\n",
       "      <td>1.967973</td>\n",
       "      <td>0.931721</td>\n",
       "      <td>Sometimes</td>\n",
       "      <td>Public_Transportation</td>\n",
       "      <td>Overweight_Level_II</td>\n",
       "    </tr>\n",
       "    <tr>\n",
       "      <th>...</th>\n",
       "      <td>...</td>\n",
       "      <td>...</td>\n",
       "      <td>...</td>\n",
       "      <td>...</td>\n",
       "      <td>...</td>\n",
       "      <td>...</td>\n",
       "      <td>...</td>\n",
       "      <td>...</td>\n",
       "      <td>...</td>\n",
       "      <td>...</td>\n",
       "      <td>...</td>\n",
       "      <td>...</td>\n",
       "      <td>...</td>\n",
       "      <td>...</td>\n",
       "      <td>...</td>\n",
       "      <td>...</td>\n",
       "      <td>...</td>\n",
       "    </tr>\n",
       "    <tr>\n",
       "      <th>20753</th>\n",
       "      <td>Male</td>\n",
       "      <td>25.137087</td>\n",
       "      <td>1.766626</td>\n",
       "      <td>114.187096</td>\n",
       "      <td>yes</td>\n",
       "      <td>yes</td>\n",
       "      <td>2.919584</td>\n",
       "      <td>3.000000</td>\n",
       "      <td>Sometimes</td>\n",
       "      <td>no</td>\n",
       "      <td>2.151809</td>\n",
       "      <td>no</td>\n",
       "      <td>1.330519</td>\n",
       "      <td>0.196680</td>\n",
       "      <td>Sometimes</td>\n",
       "      <td>Public_Transportation</td>\n",
       "      <td>Obesity_Type_II</td>\n",
       "    </tr>\n",
       "    <tr>\n",
       "      <th>20754</th>\n",
       "      <td>Male</td>\n",
       "      <td>18.000000</td>\n",
       "      <td>1.710000</td>\n",
       "      <td>50.000000</td>\n",
       "      <td>no</td>\n",
       "      <td>yes</td>\n",
       "      <td>3.000000</td>\n",
       "      <td>4.000000</td>\n",
       "      <td>Frequently</td>\n",
       "      <td>no</td>\n",
       "      <td>1.000000</td>\n",
       "      <td>no</td>\n",
       "      <td>2.000000</td>\n",
       "      <td>1.000000</td>\n",
       "      <td>Sometimes</td>\n",
       "      <td>Public_Transportation</td>\n",
       "      <td>Insufficient_Weight</td>\n",
       "    </tr>\n",
       "    <tr>\n",
       "      <th>20755</th>\n",
       "      <td>Male</td>\n",
       "      <td>20.101026</td>\n",
       "      <td>1.819557</td>\n",
       "      <td>105.580491</td>\n",
       "      <td>yes</td>\n",
       "      <td>yes</td>\n",
       "      <td>2.407817</td>\n",
       "      <td>3.000000</td>\n",
       "      <td>Sometimes</td>\n",
       "      <td>no</td>\n",
       "      <td>2.000000</td>\n",
       "      <td>no</td>\n",
       "      <td>1.158040</td>\n",
       "      <td>1.198439</td>\n",
       "      <td>no</td>\n",
       "      <td>Public_Transportation</td>\n",
       "      <td>Obesity_Type_II</td>\n",
       "    </tr>\n",
       "    <tr>\n",
       "      <th>20756</th>\n",
       "      <td>Male</td>\n",
       "      <td>33.852953</td>\n",
       "      <td>1.700000</td>\n",
       "      <td>83.520113</td>\n",
       "      <td>yes</td>\n",
       "      <td>yes</td>\n",
       "      <td>2.671238</td>\n",
       "      <td>1.971472</td>\n",
       "      <td>Sometimes</td>\n",
       "      <td>no</td>\n",
       "      <td>2.144838</td>\n",
       "      <td>no</td>\n",
       "      <td>0.000000</td>\n",
       "      <td>0.973834</td>\n",
       "      <td>no</td>\n",
       "      <td>Automobile</td>\n",
       "      <td>Overweight_Level_II</td>\n",
       "    </tr>\n",
       "    <tr>\n",
       "      <th>20757</th>\n",
       "      <td>Male</td>\n",
       "      <td>26.680376</td>\n",
       "      <td>1.816547</td>\n",
       "      <td>118.134898</td>\n",
       "      <td>yes</td>\n",
       "      <td>yes</td>\n",
       "      <td>3.000000</td>\n",
       "      <td>3.000000</td>\n",
       "      <td>Sometimes</td>\n",
       "      <td>no</td>\n",
       "      <td>2.003563</td>\n",
       "      <td>no</td>\n",
       "      <td>0.684487</td>\n",
       "      <td>0.713823</td>\n",
       "      <td>Sometimes</td>\n",
       "      <td>Public_Transportation</td>\n",
       "      <td>Obesity_Type_II</td>\n",
       "    </tr>\n",
       "  </tbody>\n",
       "</table>\n",
       "<p>20758 rows × 17 columns</p>\n",
       "</div>"
      ],
      "text/plain": [
       "       Gender        Age    Height      Weight family_history_with_overweight  \\\n",
       "id                                                                              \n",
       "0        Male  24.443011  1.699998   81.669950                            yes   \n",
       "1      Female  18.000000  1.560000   57.000000                            yes   \n",
       "2      Female  18.000000  1.711460   50.165754                            yes   \n",
       "3      Female  20.952737  1.710730  131.274851                            yes   \n",
       "4        Male  31.641081  1.914186   93.798055                            yes   \n",
       "...       ...        ...       ...         ...                            ...   \n",
       "20753    Male  25.137087  1.766626  114.187096                            yes   \n",
       "20754    Male  18.000000  1.710000   50.000000                             no   \n",
       "20755    Male  20.101026  1.819557  105.580491                            yes   \n",
       "20756    Male  33.852953  1.700000   83.520113                            yes   \n",
       "20757    Male  26.680376  1.816547  118.134898                            yes   \n",
       "\n",
       "      FAVC      FCVC       NCP        CAEC SMOKE      CH2O SCC       FAF  \\\n",
       "id                                                                         \n",
       "0      yes  2.000000  2.983297   Sometimes    no  2.763573  no  0.000000   \n",
       "1      yes  2.000000  3.000000  Frequently    no  2.000000  no  1.000000   \n",
       "2      yes  1.880534  1.411685   Sometimes    no  1.910378  no  0.866045   \n",
       "3      yes  3.000000  3.000000   Sometimes    no  1.674061  no  1.467863   \n",
       "4      yes  2.679664  1.971472   Sometimes    no  1.979848  no  1.967973   \n",
       "...    ...       ...       ...         ...   ...       ...  ..       ...   \n",
       "20753  yes  2.919584  3.000000   Sometimes    no  2.151809  no  1.330519   \n",
       "20754  yes  3.000000  4.000000  Frequently    no  1.000000  no  2.000000   \n",
       "20755  yes  2.407817  3.000000   Sometimes    no  2.000000  no  1.158040   \n",
       "20756  yes  2.671238  1.971472   Sometimes    no  2.144838  no  0.000000   \n",
       "20757  yes  3.000000  3.000000   Sometimes    no  2.003563  no  0.684487   \n",
       "\n",
       "            TUE       CALC                 MTRANS           NObeyesdad  \n",
       "id                                                                      \n",
       "0      0.976473  Sometimes  Public_Transportation  Overweight_Level_II  \n",
       "1      1.000000         no             Automobile        Normal_Weight  \n",
       "2      1.673584         no  Public_Transportation  Insufficient_Weight  \n",
       "3      0.780199  Sometimes  Public_Transportation     Obesity_Type_III  \n",
       "4      0.931721  Sometimes  Public_Transportation  Overweight_Level_II  \n",
       "...         ...        ...                    ...                  ...  \n",
       "20753  0.196680  Sometimes  Public_Transportation      Obesity_Type_II  \n",
       "20754  1.000000  Sometimes  Public_Transportation  Insufficient_Weight  \n",
       "20755  1.198439         no  Public_Transportation      Obesity_Type_II  \n",
       "20756  0.973834         no             Automobile  Overweight_Level_II  \n",
       "20757  0.713823  Sometimes  Public_Transportation      Obesity_Type_II  \n",
       "\n",
       "[20758 rows x 17 columns]"
      ]
     },
     "execution_count": 69,
     "metadata": {},
     "output_type": "execute_result"
    }
   ],
   "source": [
    "train.head(print(train.shape))"
   ]
  },
  {
   "cell_type": "code",
   "execution_count": 70,
   "id": "487953fe",
   "metadata": {
    "execution": {
     "iopub.execute_input": "2024-02-26T07:59:18.265898Z",
     "iopub.status.busy": "2024-02-26T07:59:18.265567Z",
     "iopub.status.idle": "2024-02-26T07:59:18.277213Z",
     "shell.execute_reply": "2024-02-26T07:59:18.276452Z"
    },
    "papermill": {
     "duration": 0.043803,
     "end_time": "2024-02-26T07:59:18.279109",
     "exception": false,
     "start_time": "2024-02-26T07:59:18.235306",
     "status": "completed"
    },
    "tags": []
   },
   "outputs": [],
   "source": [
    "target = train[\"NObeyesdad\"]\n",
    "train = train.drop(\"NObeyesdad\", axis=\"columns\")"
   ]
  },
  {
   "cell_type": "code",
   "execution_count": 71,
   "id": "946f1f5f",
   "metadata": {},
   "outputs": [],
   "source": [
    "sorted_labels = ['Insufficient_Weight', 'Normal_Weight', \n",
    " 'Overweight_Level_I', 'Overweight_Level_II', \n",
    " 'Obesity_Type_I', 'Obesity_Type_II', 'Obesity_Type_III']"
   ]
  },
  {
   "cell_type": "code",
   "execution_count": 72,
   "id": "2eaefe60",
   "metadata": {
    "execution": {
     "iopub.execute_input": "2024-02-26T07:59:20.244199Z",
     "iopub.status.busy": "2024-02-26T07:59:20.243458Z",
     "iopub.status.idle": "2024-02-26T07:59:20.350302Z",
     "shell.execute_reply": "2024-02-26T07:59:20.349435Z"
    },
    "papermill": {
     "duration": 0.139683,
     "end_time": "2024-02-26T07:59:20.352300",
     "exception": false,
     "start_time": "2024-02-26T07:59:20.212617",
     "status": "completed"
    },
    "tags": []
   },
   "outputs": [],
   "source": [
    "from sklearn.base import BaseEstimator, TransformerMixin\n",
    "\n",
    "class CustomLabelEncoder(BaseEstimator, TransformerMixin):\n",
    "    def __init__(self, sorted_labels):\n",
    "        self.classes_ = sorted_labels\n",
    "        self.label_to_numeric_mapping = None\n",
    "\n",
    "    def fit(self, y):\n",
    "        self.label_to_numeric_mapping = {label: numeric for numeric, label in enumerate(self.classes_)}\n",
    "        return self\n",
    "\n",
    "    def transform(self, y):\n",
    "        if self.label_to_numeric_mapping is None:\n",
    "            raise ValueError(\"fit method must be called before transform\")\n",
    "        return y.map(self.label_to_numeric_mapping)\n",
    "\n",
    "    def inverse_transform(self, y):\n",
    "        if self.label_to_numeric_mapping is None:\n",
    "            raise ValueError(\"fit method must be called before inverse_transform\")\n",
    "        return pd.Series(y).map({numeric: label for label, numeric in self.label_to_numeric_mapping.items()})"
   ]
  },
  {
   "cell_type": "code",
   "execution_count": 73,
   "id": "7b4fd5ab",
   "metadata": {},
   "outputs": [],
   "source": [
    "target_encoder = CustomLabelEncoder(sorted_labels)\n",
    "target_encoder.fit(target)\n",
    "target_numeric = target_encoder.transform(target)"
   ]
  },
  {
   "cell_type": "code",
   "execution_count": 74,
   "id": "57ca504d",
   "metadata": {
    "execution": {
     "iopub.execute_input": "2024-02-26T07:59:20.931436Z",
     "iopub.status.busy": "2024-02-26T07:59:20.931119Z",
     "iopub.status.idle": "2024-02-26T07:59:20.954881Z",
     "shell.execute_reply": "2024-02-26T07:59:20.954020Z"
    },
    "papermill": {
     "duration": 0.057452,
     "end_time": "2024-02-26T07:59:20.957038",
     "exception": false,
     "start_time": "2024-02-26T07:59:20.899586",
     "status": "completed"
    },
    "tags": []
   },
   "outputs": [
    {
     "data": {
      "text/plain": [
       "Gender                            0\n",
       "Age                               0\n",
       "Height                            0\n",
       "Weight                            0\n",
       "family_history_with_overweight    0\n",
       "FAVC                              0\n",
       "FCVC                              0\n",
       "NCP                               0\n",
       "CAEC                              0\n",
       "SMOKE                             0\n",
       "CH2O                              0\n",
       "SCC                               0\n",
       "FAF                               0\n",
       "TUE                               0\n",
       "CALC                              0\n",
       "MTRANS                            0\n",
       "dtype: int64"
      ]
     },
     "execution_count": 74,
     "metadata": {},
     "output_type": "execute_result"
    }
   ],
   "source": [
    "train.isnull().sum()"
   ]
  },
  {
   "cell_type": "code",
   "execution_count": 75,
   "id": "5c5a26fb",
   "metadata": {
    "execution": {
     "iopub.execute_input": "2024-02-26T07:59:21.018671Z",
     "iopub.status.busy": "2024-02-26T07:59:21.018373Z",
     "iopub.status.idle": "2024-02-26T07:59:21.036341Z",
     "shell.execute_reply": "2024-02-26T07:59:21.035455Z"
    },
    "papermill": {
     "duration": 0.050733,
     "end_time": "2024-02-26T07:59:21.038314",
     "exception": false,
     "start_time": "2024-02-26T07:59:20.987581",
     "status": "completed"
    },
    "tags": []
   },
   "outputs": [
    {
     "data": {
      "text/plain": [
       "Gender                            0\n",
       "Age                               0\n",
       "Height                            0\n",
       "Weight                            0\n",
       "family_history_with_overweight    0\n",
       "FAVC                              0\n",
       "FCVC                              0\n",
       "NCP                               0\n",
       "CAEC                              0\n",
       "SMOKE                             0\n",
       "CH2O                              0\n",
       "SCC                               0\n",
       "FAF                               0\n",
       "TUE                               0\n",
       "CALC                              0\n",
       "MTRANS                            0\n",
       "dtype: int64"
      ]
     },
     "execution_count": 75,
     "metadata": {},
     "output_type": "execute_result"
    }
   ],
   "source": [
    "test.isnull().sum()"
   ]
  },
  {
   "cell_type": "code",
   "execution_count": 76,
   "id": "960a1053",
   "metadata": {
    "execution": {
     "iopub.execute_input": "2024-02-26T07:59:21.222171Z",
     "iopub.status.busy": "2024-02-26T07:59:21.221872Z",
     "iopub.status.idle": "2024-02-26T07:59:21.229198Z",
     "shell.execute_reply": "2024-02-26T07:59:21.228350Z"
    },
    "papermill": {
     "duration": 0.040788,
     "end_time": "2024-02-26T07:59:21.231421",
     "exception": false,
     "start_time": "2024-02-26T07:59:21.190633",
     "status": "completed"
    },
    "tags": []
   },
   "outputs": [
    {
     "data": {
      "text/plain": [
       "Gender                             object\n",
       "Age                               float64\n",
       "Height                            float64\n",
       "Weight                            float64\n",
       "family_history_with_overweight     object\n",
       "FAVC                               object\n",
       "FCVC                              float64\n",
       "NCP                               float64\n",
       "CAEC                               object\n",
       "SMOKE                              object\n",
       "CH2O                              float64\n",
       "SCC                                object\n",
       "FAF                               float64\n",
       "TUE                               float64\n",
       "CALC                               object\n",
       "MTRANS                             object\n",
       "dtype: object"
      ]
     },
     "execution_count": 76,
     "metadata": {},
     "output_type": "execute_result"
    }
   ],
   "source": [
    "train.dtypes"
   ]
  },
  {
   "cell_type": "code",
   "execution_count": 77,
   "id": "9c786865",
   "metadata": {
    "execution": {
     "iopub.execute_input": "2024-02-26T07:59:21.298387Z",
     "iopub.status.busy": "2024-02-26T07:59:21.297791Z",
     "iopub.status.idle": "2024-02-26T07:59:21.303086Z",
     "shell.execute_reply": "2024-02-26T07:59:21.302241Z"
    },
    "papermill": {
     "duration": 0.041819,
     "end_time": "2024-02-26T07:59:21.304994",
     "exception": false,
     "start_time": "2024-02-26T07:59:21.263175",
     "status": "completed"
    },
    "tags": []
   },
   "outputs": [],
   "source": [
    "categorical_features = train.columns[train.dtypes==\"object\"].tolist()\n",
    "numeric_features = train.columns[train.dtypes!=\"object\"].tolist()"
   ]
  },
  {
   "cell_type": "code",
   "execution_count": 78,
   "id": "f34257ae",
   "metadata": {
    "execution": {
     "iopub.execute_input": "2024-02-26T07:59:21.428254Z",
     "iopub.status.busy": "2024-02-26T07:59:21.428012Z",
     "iopub.status.idle": "2024-02-26T07:59:21.450102Z",
     "shell.execute_reply": "2024-02-26T07:59:21.449281Z"
    },
    "papermill": {
     "duration": 0.055106,
     "end_time": "2024-02-26T07:59:21.451903",
     "exception": false,
     "start_time": "2024-02-26T07:59:21.396797",
     "status": "completed"
    },
    "tags": []
   },
   "outputs": [
    {
     "data": {
      "text/plain": [
       "Gender                            2\n",
       "family_history_with_overweight    2\n",
       "FAVC                              2\n",
       "CAEC                              4\n",
       "SMOKE                             2\n",
       "SCC                               2\n",
       "CALC                              3\n",
       "MTRANS                            5\n",
       "dtype: int64"
      ]
     },
     "execution_count": 78,
     "metadata": {},
     "output_type": "execute_result"
    }
   ],
   "source": [
    "train[categorical_features].nunique()"
   ]
  },
  {
   "cell_type": "code",
   "execution_count": 79,
   "id": "9fe2b8aa",
   "metadata": {
    "execution": {
     "iopub.execute_input": "2024-02-26T07:59:32.572808Z",
     "iopub.status.busy": "2024-02-26T07:59:32.572458Z",
     "iopub.status.idle": "2024-02-26T07:59:32.684604Z",
     "shell.execute_reply": "2024-02-26T07:59:32.683846Z"
    },
    "papermill": {
     "duration": 0.156413,
     "end_time": "2024-02-26T07:59:32.686623",
     "exception": false,
     "start_time": "2024-02-26T07:59:32.530210",
     "status": "completed"
    },
    "tags": []
   },
   "outputs": [],
   "source": [
    "from sklearn.preprocessing import OneHotEncoder\n",
    "\n",
    "encoder = OneHotEncoder(sparse_output=False)\n",
    "encoder.fit(pd.concat([train[categorical_features], test[categorical_features]], axis=0))\n",
    "\n",
    "train_encoded = encoder.transform(train[categorical_features])\n",
    "train_encoded_df = pd.DataFrame(train_encoded, columns=encoder.get_feature_names_out(categorical_features))"
   ]
  },
  {
   "cell_type": "code",
   "execution_count": 80,
   "id": "131470bf",
   "metadata": {
    "execution": {
     "iopub.execute_input": "2024-02-26T07:59:32.772360Z",
     "iopub.status.busy": "2024-02-26T07:59:32.772043Z",
     "iopub.status.idle": "2024-02-26T07:59:32.820269Z",
     "shell.execute_reply": "2024-02-26T07:59:32.819574Z"
    },
    "papermill": {
     "duration": 0.092952,
     "end_time": "2024-02-26T07:59:32.822197",
     "exception": false,
     "start_time": "2024-02-26T07:59:32.729245",
     "status": "completed"
    },
    "tags": []
   },
   "outputs": [],
   "source": [
    "test_encoded = encoder.fit_transform(test[categorical_features])\n",
    "test_encoded_df = pd.DataFrame(test_encoded, columns=encoder.get_feature_names_out(categorical_features))"
   ]
  },
  {
   "cell_type": "code",
   "execution_count": 81,
   "id": "698ad0ef",
   "metadata": {
    "execution": {
     "iopub.execute_input": "2024-02-26T07:59:32.910702Z",
     "iopub.status.busy": "2024-02-26T07:59:32.910057Z",
     "iopub.status.idle": "2024-02-26T07:59:32.926673Z",
     "shell.execute_reply": "2024-02-26T07:59:32.925793Z"
    },
    "papermill": {
     "duration": 0.062617,
     "end_time": "2024-02-26T07:59:32.928811",
     "exception": false,
     "start_time": "2024-02-26T07:59:32.866194",
     "status": "completed"
    },
    "tags": []
   },
   "outputs": [
    {
     "data": {
      "text/html": [
       "<div>\n",
       "<style scoped>\n",
       "    .dataframe tbody tr th:only-of-type {\n",
       "        vertical-align: middle;\n",
       "    }\n",
       "\n",
       "    .dataframe tbody tr th {\n",
       "        vertical-align: top;\n",
       "    }\n",
       "\n",
       "    .dataframe thead th {\n",
       "        text-align: right;\n",
       "    }\n",
       "</style>\n",
       "<table border=\"1\" class=\"dataframe\">\n",
       "  <thead>\n",
       "    <tr style=\"text-align: right;\">\n",
       "      <th></th>\n",
       "      <th>Train</th>\n",
       "      <th>Test</th>\n",
       "    </tr>\n",
       "  </thead>\n",
       "  <tbody>\n",
       "    <tr>\n",
       "      <th>Gender_Female</th>\n",
       "      <td>10422</td>\n",
       "      <td>6965</td>\n",
       "    </tr>\n",
       "    <tr>\n",
       "      <th>Gender_Male</th>\n",
       "      <td>10336</td>\n",
       "      <td>6875</td>\n",
       "    </tr>\n",
       "    <tr>\n",
       "      <th>family_history_with_overweight_no</th>\n",
       "      <td>3744</td>\n",
       "      <td>2456</td>\n",
       "    </tr>\n",
       "    <tr>\n",
       "      <th>family_history_with_overweight_yes</th>\n",
       "      <td>17014</td>\n",
       "      <td>11384</td>\n",
       "    </tr>\n",
       "    <tr>\n",
       "      <th>FAVC_no</th>\n",
       "      <td>1776</td>\n",
       "      <td>1257</td>\n",
       "    </tr>\n",
       "    <tr>\n",
       "      <th>FAVC_yes</th>\n",
       "      <td>18982</td>\n",
       "      <td>12583</td>\n",
       "    </tr>\n",
       "    <tr>\n",
       "      <th>CAEC_Always</th>\n",
       "      <td>478</td>\n",
       "      <td>359</td>\n",
       "    </tr>\n",
       "    <tr>\n",
       "      <th>CAEC_Frequently</th>\n",
       "      <td>2472</td>\n",
       "      <td>1617</td>\n",
       "    </tr>\n",
       "    <tr>\n",
       "      <th>CAEC_Sometimes</th>\n",
       "      <td>17529</td>\n",
       "      <td>11689</td>\n",
       "    </tr>\n",
       "    <tr>\n",
       "      <th>CAEC_no</th>\n",
       "      <td>279</td>\n",
       "      <td>175</td>\n",
       "    </tr>\n",
       "    <tr>\n",
       "      <th>SMOKE_no</th>\n",
       "      <td>20513</td>\n",
       "      <td>13660</td>\n",
       "    </tr>\n",
       "    <tr>\n",
       "      <th>SMOKE_yes</th>\n",
       "      <td>245</td>\n",
       "      <td>180</td>\n",
       "    </tr>\n",
       "    <tr>\n",
       "      <th>SCC_no</th>\n",
       "      <td>20071</td>\n",
       "      <td>13376</td>\n",
       "    </tr>\n",
       "    <tr>\n",
       "      <th>SCC_yes</th>\n",
       "      <td>687</td>\n",
       "      <td>464</td>\n",
       "    </tr>\n",
       "    <tr>\n",
       "      <th>CALC_Always</th>\n",
       "      <td>0</td>\n",
       "      <td>2</td>\n",
       "    </tr>\n",
       "    <tr>\n",
       "      <th>CALC_Frequently</th>\n",
       "      <td>529</td>\n",
       "      <td>346</td>\n",
       "    </tr>\n",
       "    <tr>\n",
       "      <th>CALC_Sometimes</th>\n",
       "      <td>15066</td>\n",
       "      <td>9979</td>\n",
       "    </tr>\n",
       "    <tr>\n",
       "      <th>CALC_no</th>\n",
       "      <td>5163</td>\n",
       "      <td>3513</td>\n",
       "    </tr>\n",
       "    <tr>\n",
       "      <th>MTRANS_Automobile</th>\n",
       "      <td>3534</td>\n",
       "      <td>2405</td>\n",
       "    </tr>\n",
       "    <tr>\n",
       "      <th>MTRANS_Bike</th>\n",
       "      <td>32</td>\n",
       "      <td>25</td>\n",
       "    </tr>\n",
       "    <tr>\n",
       "      <th>MTRANS_Motorbike</th>\n",
       "      <td>38</td>\n",
       "      <td>19</td>\n",
       "    </tr>\n",
       "    <tr>\n",
       "      <th>MTRANS_Public_Transportation</th>\n",
       "      <td>16687</td>\n",
       "      <td>11111</td>\n",
       "    </tr>\n",
       "    <tr>\n",
       "      <th>MTRANS_Walking</th>\n",
       "      <td>467</td>\n",
       "      <td>280</td>\n",
       "    </tr>\n",
       "  </tbody>\n",
       "</table>\n",
       "</div>"
      ],
      "text/plain": [
       "                                    Train   Test\n",
       "Gender_Female                       10422   6965\n",
       "Gender_Male                         10336   6875\n",
       "family_history_with_overweight_no    3744   2456\n",
       "family_history_with_overweight_yes  17014  11384\n",
       "FAVC_no                              1776   1257\n",
       "FAVC_yes                            18982  12583\n",
       "CAEC_Always                           478    359\n",
       "CAEC_Frequently                      2472   1617\n",
       "CAEC_Sometimes                      17529  11689\n",
       "CAEC_no                               279    175\n",
       "SMOKE_no                            20513  13660\n",
       "SMOKE_yes                             245    180\n",
       "SCC_no                              20071  13376\n",
       "SCC_yes                               687    464\n",
       "CALC_Always                             0      2\n",
       "CALC_Frequently                       529    346\n",
       "CALC_Sometimes                      15066   9979\n",
       "CALC_no                              5163   3513\n",
       "MTRANS_Automobile                    3534   2405\n",
       "MTRANS_Bike                            32     25\n",
       "MTRANS_Motorbike                       38     19\n",
       "MTRANS_Public_Transportation        16687  11111\n",
       "MTRANS_Walking                        467    280"
      ]
     },
     "execution_count": 81,
     "metadata": {},
     "output_type": "execute_result"
    }
   ],
   "source": [
    "train_sum = train_encoded_df.sum(axis=0).astype(int)\n",
    "test_sum = test_encoded_df.sum(axis=0).astype(int)\n",
    "\n",
    "sum_df = pd.concat([train_sum, test_sum], axis=1, keys=['Train', 'Test'])\n",
    "sum_df"
   ]
  },
  {
   "cell_type": "code",
   "execution_count": 82,
   "id": "aab84b40",
   "metadata": {
    "execution": {
     "iopub.execute_input": "2024-02-26T07:59:33.575473Z",
     "iopub.status.busy": "2024-02-26T07:59:33.575168Z",
     "iopub.status.idle": "2024-02-26T07:59:33.588501Z",
     "shell.execute_reply": "2024-02-26T07:59:33.587735Z"
    },
    "papermill": {
     "duration": 0.058142,
     "end_time": "2024-02-26T07:59:33.590490",
     "exception": false,
     "start_time": "2024-02-26T07:59:33.532348",
     "status": "completed"
    },
    "tags": []
   },
   "outputs": [],
   "source": [
    "train = pd.concat([train.drop(categorical_features, axis=1), train_encoded_df], axis=1)\n",
    "test = pd.concat([test.drop(categorical_features, axis=1), test_encoded_df], axis=1)"
   ]
  },
  {
   "cell_type": "code",
   "execution_count": 83,
   "id": "183cc422",
   "metadata": {
    "execution": {
     "iopub.execute_input": "2024-02-26T07:59:50.367266Z",
     "iopub.status.busy": "2024-02-26T07:59:50.366906Z",
     "iopub.status.idle": "2024-02-26T07:59:50.375180Z",
     "shell.execute_reply": "2024-02-26T07:59:50.374431Z"
    },
    "papermill": {
     "duration": 0.05411,
     "end_time": "2024-02-26T07:59:50.377106",
     "exception": false,
     "start_time": "2024-02-26T07:59:50.322996",
     "status": "completed"
    },
    "tags": []
   },
   "outputs": [],
   "source": [
    "train['BMI'] = train['Weight'] / (train['Height'] ** 2)\n",
    "test['BMI'] = test['Weight'] / (test['Height'] ** 2)"
   ]
  },
  {
   "cell_type": "code",
   "execution_count": 84,
   "id": "c6c2f0b1",
   "metadata": {
    "execution": {
     "iopub.execute_input": "2024-02-26T07:59:55.922231Z",
     "iopub.status.busy": "2024-02-26T07:59:55.921910Z",
     "iopub.status.idle": "2024-02-26T07:59:55.927203Z",
     "shell.execute_reply": "2024-02-26T07:59:55.926247Z"
    },
    "papermill": {
     "duration": 0.054101,
     "end_time": "2024-02-26T07:59:55.929186",
     "exception": false,
     "start_time": "2024-02-26T07:59:55.875085",
     "status": "completed"
    },
    "tags": []
   },
   "outputs": [],
   "source": [
    "from sklearn.model_selection import StratifiedKFold\n",
    "\n",
    "cv = StratifiedKFold(5, shuffle=True, random_state=0)\n",
    "cv_splits = cv.split(train, y=target_numeric)"
   ]
  },
  {
   "cell_type": "code",
   "execution_count": 85,
   "id": "5437279b",
   "metadata": {
    "execution": {
     "iopub.execute_input": "2024-02-26T07:59:56.018439Z",
     "iopub.status.busy": "2024-02-26T07:59:56.018126Z",
     "iopub.status.idle": "2024-02-26T07:59:56.030097Z",
     "shell.execute_reply": "2024-02-26T07:59:56.029217Z"
    },
    "papermill": {
     "duration": 0.058627,
     "end_time": "2024-02-26T07:59:56.031904",
     "exception": false,
     "start_time": "2024-02-26T07:59:55.973277",
     "status": "completed"
    },
    "tags": []
   },
   "outputs": [
    {
     "data": {
      "text/plain": [
       "[(array([    0,     1,     2, ..., 20755, 20756, 20757]),\n",
       "  array([   15,    24,    27, ..., 20740, 20741, 20754])),\n",
       " (array([    2,     3,     4, ..., 20755, 20756, 20757]),\n",
       "  array([    0,     1,     7, ..., 20748, 20750, 20752])),\n",
       " (array([    0,     1,     2, ..., 20754, 20756, 20757]),\n",
       "  array([   10,    22,    23, ..., 20728, 20732, 20755])),\n",
       " (array([    0,     1,     2, ..., 20752, 20754, 20755]),\n",
       "  array([    3,     4,     6, ..., 20753, 20756, 20757])),\n",
       " (array([    0,     1,     3, ..., 20755, 20756, 20757]),\n",
       "  array([    2,     5,    14, ..., 20746, 20749, 20751]))]"
      ]
     },
     "execution_count": 85,
     "metadata": {},
     "output_type": "execute_result"
    }
   ],
   "source": [
    "list(cv_splits)"
   ]
  },
  {
   "cell_type": "code",
   "execution_count": 86,
   "id": "5068baf4",
   "metadata": {
    "execution": {
     "iopub.execute_input": "2024-02-26T07:59:56.295446Z",
     "iopub.status.busy": "2024-02-26T07:59:56.295091Z",
     "iopub.status.idle": "2024-02-26T08:00:13.633868Z",
     "shell.execute_reply": "2024-02-26T08:00:13.632844Z"
    },
    "papermill": {
     "duration": 17.385855,
     "end_time": "2024-02-26T08:00:13.636105",
     "exception": false,
     "start_time": "2024-02-26T07:59:56.250250",
     "status": "completed"
    },
    "tags": []
   },
   "outputs": [
    {
     "name": "stdout",
     "output_type": "stream",
     "text": [
      "Cross-validated Accuracy: 0.901\n",
      "CPU times: user 57.3 s, sys: 20.2 s, total: 1min 17s\n",
      "Wall time: 7.63 s\n"
     ]
    }
   ],
   "source": [
    "%%time\n",
    "\n",
    "from sklearn.model_selection import cross_validate\n",
    "from sklearn.metrics import make_scorer, accuracy_score\n",
    "from xgboost import XGBClassifier\n",
    "\n",
    "xgb = XGBClassifier(booster='gbtree',\n",
    "                    device = \"cuda\",\n",
    "                    tree_method=\"hist\",\n",
    "                    objective='multi:softmax',\n",
    "                    num_class=len(set(target_numeric)),\n",
    "                    n_estimators=300,\n",
    "                    max_depth=6,\n",
    "                    verbosity=0)\n",
    "\n",
    "cv_splits = cv.split(train, y=target_numeric)\n",
    "scorer = make_scorer(accuracy_score)\n",
    "\n",
    "cv_results = cross_validate(xgb, train, target_numeric, cv=cv_splits, scoring=scorer, return_train_score=False)\n",
    "\n",
    "accuracy_mean = cv_results['test_score'].mean()\n",
    "print(f'Cross-validated Accuracy: {accuracy_mean:.3f}')"
   ]
  },
  {
   "cell_type": "code",
   "execution_count": 87,
   "id": "779c9355",
   "metadata": {
    "execution": {
     "iopub.execute_input": "2024-02-26T08:00:13.817793Z",
     "iopub.status.busy": "2024-02-26T08:00:13.817423Z",
     "iopub.status.idle": "2024-02-26T08:00:30.698379Z",
     "shell.execute_reply": "2024-02-26T08:00:30.697603Z"
    },
    "papermill": {
     "duration": 16.929012,
     "end_time": "2024-02-26T08:00:30.700607",
     "exception": false,
     "start_time": "2024-02-26T08:00:13.771595",
     "status": "completed"
    },
    "tags": []
   },
   "outputs": [],
   "source": [
    "from sklearn.metrics import classification_report\n",
    "from sklearn.model_selection import cross_val_predict\n",
    "\n",
    "cv_splits = cv.split(train, y=target_numeric)\n",
    "cv_cls_preds = cross_val_predict(xgb, train, target_numeric, cv=cv_splits)"
   ]
  },
  {
   "cell_type": "code",
   "execution_count": 88,
   "id": "0d6ab546",
   "metadata": {
    "execution": {
     "iopub.execute_input": "2024-02-26T08:00:30.791426Z",
     "iopub.status.busy": "2024-02-26T08:00:30.791101Z",
     "iopub.status.idle": "2024-02-26T08:00:30.811011Z",
     "shell.execute_reply": "2024-02-26T08:00:30.810125Z"
    },
    "papermill": {
     "duration": 0.067326,
     "end_time": "2024-02-26T08:00:30.812885",
     "exception": false,
     "start_time": "2024-02-26T08:00:30.745559",
     "status": "completed"
    },
    "tags": []
   },
   "outputs": [
    {
     "name": "stdout",
     "output_type": "stream",
     "text": [
      "                     precision    recall  f1-score   support\n",
      "\n",
      "Insufficient_Weight       0.92      0.93      0.93      2523\n",
      "      Normal_Weight       0.87      0.88      0.87      3082\n",
      " Overweight_Level_I       0.80      0.77      0.78      2427\n",
      "Overweight_Level_II       0.80      0.82      0.81      2522\n",
      "     Obesity_Type_I       0.89      0.88      0.88      2910\n",
      "    Obesity_Type_II       0.97      0.97      0.97      3248\n",
      "   Obesity_Type_III       1.00      1.00      1.00      4046\n",
      "\n",
      "           accuracy                           0.90     20758\n",
      "          macro avg       0.89      0.89      0.89     20758\n",
      "       weighted avg       0.90      0.90      0.90     20758\n",
      "\n"
     ]
    }
   ],
   "source": [
    "print(classification_report(y_true=target_numeric, y_pred=cv_cls_preds, target_names=target_encoder.classes_))"
   ]
  },
  {
   "cell_type": "code",
   "execution_count": 89,
   "id": "aee8c962",
   "metadata": {
    "execution": {
     "iopub.execute_input": "2024-02-26T08:00:30.901433Z",
     "iopub.status.busy": "2024-02-26T08:00:30.901144Z",
     "iopub.status.idle": "2024-02-26T08:00:31.359985Z",
     "shell.execute_reply": "2024-02-26T08:00:31.359100Z"
    },
    "papermill": {
     "duration": 0.505552,
     "end_time": "2024-02-26T08:00:31.362120",
     "exception": false,
     "start_time": "2024-02-26T08:00:30.856568",
     "status": "completed"
    },
    "tags": []
   },
   "outputs": [
    {
     "data": {
      "image/png": "[encoded data removed]",
      "text/plain": [
       "<Figure size 800x600 with 2 Axes>"
      ]
     },
     "metadata": {},
     "output_type": "display_data"
    }
   ],
   "source": [
    "import matplotlib.pyplot as plt\n",
    "import seaborn as sns\n",
    "\n",
    "from sklearn.metrics import confusion_matrix\n",
    "\n",
    "conf_matrix = confusion_matrix(y_true=target_numeric, y_pred=cv_cls_preds)\n",
    "\n",
    "plt.figure(figsize=(8, 6))\n",
    "sns.set(font_scale=1.2) \n",
    "sns.heatmap(conf_matrix, annot=True, fmt='d', xticklabels=sorted_labels, yticklabels=sorted_labels, cmap=\"Blues\")\n",
    "plt.xlabel('Predicted Label')\n",
    "plt.ylabel('True Label')\n",
    "plt.show()"
   ]
  }
 ],
 "metadata": {
  "kaggle": {
   "accelerator": "gpu",
   "dataSources": [
    {
     "databundleVersionId": 7609535,
     "sourceId": 68479,
     "sourceType": "competition"
    }
   ],
   "dockerImageVersionId": 30646,
   "isGpuEnabled": true,
   "isInternetEnabled": true,
   "language": "python",
   "sourceType": "notebook"
  },
  "kernelspec": {
   "display_name": "Python 3",
   "language": "python",
   "name": "python3"
  },
  "language_info": {
   "codemirror_mode": {
    "name": "ipython",
    "version": 3
   },
   "file_extension": ".py",
   "mimetype": "text/x-python",
   "name": "python",
   "nbconvert_exporter": "python",
   "pygments_lexer": "ipython3",
   "version": "3.11.6"
  },
  "papermill": {
   "default_parameters": {},
   "duration": 22123.092994,
   "end_time": "2024-02-26T14:07:56.544877",
   "environment_variables": {},
   "exception": null,
   "input_path": "__notebook__.ipynb",
   "output_path": "__notebook__.ipynb",
   "parameters": {},
   "start_time": "2024-02-26T07:59:13.451883",
   "version": "2.5.0"
  }
 },
 "nbformat": 4,
 "nbformat_minor": 5
}
