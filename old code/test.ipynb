{
 "cells": [
  {
   "cell_type": "code",
   "execution_count": 1,
   "id": "3f83b286-6cdb-48c8-a265-f5b5913ec168",
   "metadata": {
    "execution": {
     "iopub.execute_input": "2024-04-23T04:00:44.916257Z",
     "iopub.status.busy": "2024-04-23T04:00:44.916257Z",
     "iopub.status.idle": "2024-04-23T04:00:46.986646Z",
     "shell.execute_reply": "2024-04-23T04:00:46.986646Z",
     "shell.execute_reply.started": "2024-04-23T04:00:44.916257Z"
    }
   },
   "outputs": [
    {
     "name": "stderr",
     "output_type": "stream",
     "text": [
      "IProgress not found. Please update jupyter and ipywidgets. See https://ipywidgets.readthedocs.io/en/stable/user_install.html\n"
     ]
    }
   ],
   "source": [
    "import os, psutil\n",
    "import gc\n",
    "\n",
    "import numpy as np\n",
    "import pandas as pd\n",
    "import scipy as sci\n",
    "import matplotlib.pyplot as plt\n",
    "%matplotlib inline\n",
    "\n",
    "import seaborn as sns\n",
    "\n",
    "import sklearn\n",
    "sklearn.set_config(transform_output=\"pandas\")\n",
    "\n",
    "from sklearn.tree import DecisionTreeClassifier\n",
    "from sklearn.linear_model import LogisticRegression, LogisticRegressionCV\n",
    "from sklearn.neural_network import MLPClassifier\n",
    "from sklearn.neighbors import KNeighborsClassifier\n",
    "from sklearn.svm import SVC\n",
    "from sklearn.discriminant_analysis import LinearDiscriminantAnalysis, QuadraticDiscriminantAnalysis\n",
    "from sklearn.naive_bayes import GaussianNB, MultinomialNB, ComplementNB, BernoulliNB, CategoricalNB \n",
    "\n",
    "from sklearn.model_selection import train_test_split\n",
    "\n",
    "from sklearn.model_selection import cross_validate,cross_val_score,train_test_split, KFold, GridSearchCV, LearningCurveDisplay, ValidationCurveDisplay\n",
    "from sklearn.metrics import classification_report, accuracy_score, log_loss, roc_auc_score, confusion_matrix, RocCurveDisplay, ConfusionMatrixDisplay\n",
    "from sklearn.metrics import fowlkes_mallows_score, homogeneity_completeness_v_measure, adjusted_mutual_info_score, normalized_mutual_info_score, adjusted_rand_score, rand_score\n",
    "from sklearn import ensemble,metrics,model_selection,neighbors,preprocessing, svm, tree\n",
    "from sklearn.preprocessing import OneHotEncoder, OrdinalEncoder, TargetEncoder, StandardScaler, RobustScaler, PolynomialFeatures\n",
    "from sklearn.compose import ColumnTransformer\n",
    "from sklearn.pipeline import make_pipeline, Pipeline\n",
    "\n",
    "import lightgbm as lgb\n",
    "from lightgbm import LGBMClassifier\n",
    "\n",
    "from statsmodels.graphics.mosaicplot import mosaic\n",
    "\n",
    "from time import time\n",
    "import warnings\n",
    "\n",
    "import shap\n",
    "\n",
    "from sklearn.cluster import KMeans, BisectingKMeans\n",
    "from sklearn.mixture import GaussianMixture, BayesianGaussianMixture"
   ]
  },
  {
   "cell_type": "code",
   "execution_count": 2,
   "id": "7efef4dd-5038-41e0-8635-f893c94b38e6",
   "metadata": {
    "execution": {
     "iopub.execute_input": "2024-04-23T04:00:46.988640Z",
     "iopub.status.busy": "2024-04-23T04:00:46.987642Z",
     "iopub.status.idle": "2024-04-23T04:00:46.994368Z",
     "shell.execute_reply": "2024-04-23T04:00:46.994368Z",
     "shell.execute_reply.started": "2024-04-23T04:00:46.988640Z"
    }
   },
   "outputs": [
    {
     "name": "stdout",
     "output_type": "stream",
     "text": [
      "Function built\n",
      "CPU times: total: 0 ns\n",
      "Wall time: 0 ns\n"
     ]
    }
   ],
   "source": [
    "%%time\n",
    "# taken from https://www.kaggle.com/ryanholbrook/getting-started-september-2021-tabular-playground\n",
    "\n",
    "def cpu_stats():\n",
    "    pid = os.getpid()\n",
    "    py = psutil.Process(pid)\n",
    "    memory_use = py.memory_info()[0] / 2. ** 30\n",
    "    return 'memory GB:' + str(np.round(memory_use, 2))\n",
    "\n",
    "def score(X, y, model, cv, scoring = {\"AUC_OVR_Weighted\": \"roc_auc_ovr_weighted\",\"AUC_OVO_Weighted\": \"roc_auc_ovo_weighted\", \"Accuracy\": \"accuracy\"}):\n",
    "    scores = cross_validate(\n",
    "        model, X, y, scoring=scoring, cv=cv, return_train_score=True\n",
    "    )\n",
    "    scores = pd.DataFrame(scores).T\n",
    "    return scores.assign(\n",
    "        mean = lambda x: x.mean(axis=1),\n",
    "        std = lambda x: x.std(axis=1),\n",
    "    )\n",
    "print('Function built')"
   ]
  },
  {
   "cell_type": "code",
   "execution_count": 3,
   "id": "fa7853a6-0893-49e3-8475-2cea286c6f19",
   "metadata": {
    "execution": {
     "iopub.execute_input": "2024-04-23T04:00:46.995357Z",
     "iopub.status.busy": "2024-04-23T04:00:46.995357Z",
     "iopub.status.idle": "2024-04-23T04:00:47.066320Z",
     "shell.execute_reply": "2024-04-23T04:00:47.066320Z",
     "shell.execute_reply.started": "2024-04-23T04:00:46.995357Z"
    }
   },
   "outputs": [
    {
     "name": "stdout",
     "output_type": "stream",
     "text": [
      "CPU times: total: 0 ns\n",
      "Wall time: 0 ns\n"
     ]
    }
   ],
   "source": [
    "%%time\n",
    "\n",
    "## from: https://www.kaggle.com/bextuychiev/how-to-work-w-million-row-datasets-like-a-pro\n",
    "def reduce_memory_usage(df, verbose=True):\n",
    "    numerics = [\"int8\", \"int16\", \"int32\", \"int64\", \"float16\", \"float32\", \"float64\"]\n",
    "    start_mem = df.memory_usage().sum() / 1024 ** 2\n",
    "    for col in df.columns:\n",
    "        col_type = df[col].dtypes\n",
    "        if col_type in numerics:\n",
    "            c_min = df[col].min()\n",
    "            c_max = df[col].max()\n",
    "            if str(col_type)[:3] == \"int\":\n",
    "                if c_min > np.iinfo(np.int8).min and c_max < np.iinfo(np.int8).max:\n",
    "                    df[col] = df[col].astype(np.int8)\n",
    "                elif c_min > np.iinfo(np.int16).min and c_max < np.iinfo(np.int16).max:\n",
    "                    df[col] = df[col].astype(np.int16)\n",
    "                elif c_min > np.iinfo(np.int32).min and c_max < np.iinfo(np.int32).max:\n",
    "                    df[col] = df[col].astype(np.int32)\n",
    "                elif c_min > np.iinfo(np.int64).min and c_max < np.iinfo(np.int64).max:\n",
    "                    df[col] = df[col].astype(np.int64)\n",
    "            else:\n",
    "                if (\n",
    "                        c_min > np.finfo(np.float16).min\n",
    "                        and c_max < np.finfo(np.float16).max\n",
    "                ):\n",
    "                    df[col] = df[col].astype(np.float16)\n",
    "                elif (\n",
    "                        c_min > np.finfo(np.float32).min\n",
    "                        and c_max < np.finfo(np.float32).max\n",
    "                ):\n",
    "                    df[col] = df[col].astype(np.float32)\n",
    "                else:\n",
    "                    df[col] = df[col].astype(np.float64)\n",
    "    end_mem = df.memory_usage().sum() / 1024 ** 2\n",
    "    if verbose:\n",
    "        print(\n",
    "            \"Mem. usage decreased to {:.2f} Mb ({:.1f}% reduction)\".format(\n",
    "                end_mem, 100 * (start_mem - end_mem) / start_mem\n",
    "            )\n",
    "        )\n",
    "    return df"
   ]
  },
  {
   "cell_type": "code",
   "execution_count": 4,
   "id": "7fbb4b4f-b74d-47fe-839c-9292cfc01125",
   "metadata": {
    "execution": {
     "iopub.execute_input": "2024-04-23T04:00:47.069311Z",
     "iopub.status.busy": "2024-04-23T04:00:47.068313Z",
     "iopub.status.idle": "2024-04-23T04:00:47.085231Z",
     "shell.execute_reply": "2024-04-23T04:00:47.084234Z",
     "shell.execute_reply.started": "2024-04-23T04:00:47.069311Z"
    }
   },
   "outputs": [],
   "source": [
    "df = pd.read_csv('dataset/ObesityDataSet.csv')\n",
    "# df = df.drop(columns='id')"
   ]
  },
  {
   "cell_type": "code",
   "execution_count": 5,
   "id": "5148830d-e842-44a2-b129-4ec7ce2016c6",
   "metadata": {
    "execution": {
     "iopub.execute_input": "2024-04-23T04:00:47.086227Z",
     "iopub.status.busy": "2024-04-23T04:00:47.086227Z",
     "iopub.status.idle": "2024-04-23T04:00:47.090430Z",
     "shell.execute_reply": "2024-04-23T04:00:47.090430Z",
     "shell.execute_reply.started": "2024-04-23T04:00:47.086227Z"
    }
   },
   "outputs": [],
   "source": [
    "df['BMI'] = df['Weight'] / (df['Height'] ** 2)\n",
    "# df['BMI'].hist()\n",
    "# df['BMI'].describe()"
   ]
  },
  {
   "cell_type": "code",
   "execution_count": 6,
   "id": "a09f6ac0-ef96-418a-9b87-ee2f4b412907",
   "metadata": {
    "execution": {
     "iopub.execute_input": "2024-04-23T04:00:47.091426Z",
     "iopub.status.busy": "2024-04-23T04:00:47.091426Z",
     "iopub.status.idle": "2024-04-23T04:00:47.098289Z",
     "shell.execute_reply": "2024-04-23T04:00:47.098289Z",
     "shell.execute_reply.started": "2024-04-23T04:00:47.091426Z"
    }
   },
   "outputs": [],
   "source": [
    "# df['Age'].describe()"
   ]
  },
  {
   "cell_type": "code",
   "execution_count": 7,
   "id": "ca4828dd-b13a-4329-9669-9328664ea0fb",
   "metadata": {
    "execution": {
     "iopub.execute_input": "2024-04-23T04:00:47.100280Z",
     "iopub.status.busy": "2024-04-23T04:00:47.099283Z",
     "iopub.status.idle": "2024-04-23T04:00:47.114397Z",
     "shell.execute_reply": "2024-04-23T04:00:47.113402Z",
     "shell.execute_reply.started": "2024-04-23T04:00:47.100280Z"
    }
   },
   "outputs": [],
   "source": [
    "WHObmi_boys = pd.read_csv(\"dataset/bmi_boys_perc_WHO2007.csv\")\n",
    "WHObmi_girls = pd.read_csv(\"dataset/bmi_girls_perc_WHO2007.csv\")\n",
    "\n",
    "CDCbmi_boys = pd.read_csv(\"dataset/bmiagerev_boys.csv\")\n",
    "CDCbmi_girls = pd.read_csv(\"dataset/bmiagerv_girls.csv\")"
   ]
  },
  {
   "cell_type": "code",
   "execution_count": 8,
   "id": "22f7dae2-76bb-4632-8da9-77fc97b2b6d0",
   "metadata": {
    "execution": {
     "iopub.execute_input": "2024-04-23T04:00:47.115394Z",
     "iopub.status.busy": "2024-04-23T04:00:47.115394Z",
     "iopub.status.idle": "2024-04-23T04:00:47.120994Z",
     "shell.execute_reply": "2024-04-23T04:00:47.119999Z",
     "shell.execute_reply.started": "2024-04-23T04:00:47.115394Z"
    }
   },
   "outputs": [],
   "source": [
    "WHObmi_boys.insert(0, \"Age\", WHObmi_boys['Month']/12)\n",
    "WHObmi_boys = WHObmi_boys[WHObmi_boys['Age'] >= 14]\n",
    "# WHObmi_boys"
   ]
  },
  {
   "cell_type": "code",
   "execution_count": 9,
   "id": "9e790b30-0e39-48a7-9dd0-6feaf8ea6784",
   "metadata": {
    "execution": {
     "iopub.execute_input": "2024-04-23T04:00:47.121991Z",
     "iopub.status.busy": "2024-04-23T04:00:47.120994Z",
     "iopub.status.idle": "2024-04-23T04:00:47.128121Z",
     "shell.execute_reply": "2024-04-23T04:00:47.127843Z",
     "shell.execute_reply.started": "2024-04-23T04:00:47.121991Z"
    }
   },
   "outputs": [],
   "source": [
    "WHObmi_girls.insert(0, \"Age\", WHObmi_girls['Month']/12)\n",
    "WHObmi_girls = WHObmi_girls[WHObmi_girls['Age'] >= 14]\n",
    "# WHObmi_girls"
   ]
  },
  {
   "cell_type": "code",
   "execution_count": 10,
   "id": "f985dcb9-6eb2-4736-8511-d9766217ae3b",
   "metadata": {
    "execution": {
     "iopub.execute_input": "2024-04-23T04:00:47.128629Z",
     "iopub.status.busy": "2024-04-23T04:00:47.128629Z",
     "iopub.status.idle": "2024-04-23T04:00:47.135087Z",
     "shell.execute_reply": "2024-04-23T04:00:47.135087Z",
     "shell.execute_reply.started": "2024-04-23T04:00:47.128629Z"
    }
   },
   "outputs": [],
   "source": [
    "CDCbmi_boys.insert(0, \"Age\", CDCbmi_boys['Agemos']/12)\n",
    "CDCbmi_boys = CDCbmi_boys[CDCbmi_boys['Age'] >= 14]\n",
    "# CDCbmi_boys"
   ]
  },
  {
   "cell_type": "code",
   "execution_count": 11,
   "id": "40d8685f-f4cf-482b-8fb0-d39c4728385f",
   "metadata": {
    "execution": {
     "iopub.execute_input": "2024-04-23T04:00:47.137076Z",
     "iopub.status.busy": "2024-04-23T04:00:47.136078Z",
     "iopub.status.idle": "2024-04-23T04:00:47.143891Z",
     "shell.execute_reply": "2024-04-23T04:00:47.143891Z",
     "shell.execute_reply.started": "2024-04-23T04:00:47.137076Z"
    }
   },
   "outputs": [],
   "source": [
    "CDCbmi_girls.insert(0, \"Age\", CDCbmi_girls['Agemos']/12)\n",
    "CDCbmi_girls = CDCbmi_girls[CDCbmi_girls['Age'] >= 14]\n",
    "# CDCbmi_girls"
   ]
  },
  {
   "cell_type": "code",
   "execution_count": 12,
   "id": "4b1fb3bc-103a-404d-85d2-dd18763f631d",
   "metadata": {
    "execution": {
     "iopub.execute_input": "2024-04-23T04:00:47.144886Z",
     "iopub.status.busy": "2024-04-23T04:00:47.144886Z",
     "iopub.status.idle": "2024-04-23T04:00:47.156459Z",
     "shell.execute_reply": "2024-04-23T04:00:47.156459Z",
     "shell.execute_reply.started": "2024-04-23T04:00:47.144886Z"
    }
   },
   "outputs": [],
   "source": [
    "df['Adult'] = np.select([df['Age'] >= 20, df['Age'] < 20], [\"True\", \"False\"]) \n",
    "\n",
    "# from https://www.dataquest.io/blog/tutorial-add-column-pandas-dataframe-based-on-if-else-condition/\n",
    "# create a list of our conditions\n",
    "conditions = [\n",
    "    (df['Adult'] == \"False\"),\n",
    "    (df['Adult'] == \"True\") & (df['BMI'] < 18.5),\n",
    "    (df['Adult'] == \"True\") & (df['BMI'] >= 18.5) & (df['BMI'] < 25),\n",
    "    (df['Adult'] == \"True\") & (df['BMI'] >= 25) & (df['BMI'] < 30),\n",
    "    (df['Adult'] == \"True\") & (df['BMI'] >= 30) & (df['BMI'] < 35),\n",
    "    (df['Adult'] == \"True\") & (df['BMI'] >= 35) & (df['BMI'] < 40),\n",
    "    (df['Adult'] == \"True\") & (df['BMI'] >= 40)\n",
    "    ]\n",
    "\n",
    "# create a list of the values we want to assign for each condition\n",
    "values = ['N/A', 'underweight', 'healthy', 'overweight', 'obseity class 1', 'obseity class 2', 'obseity class 3']\n",
    "\n",
    "# create a new column and use np.select to assign values to it using our lists as arguments\n",
    "df['Adult BMI Predictions'] = np.select(conditions, values)"
   ]
  },
  {
   "cell_type": "code",
   "execution_count": 13,
   "id": "3e9e5266-dd3f-4adf-9eea-0fc820a83fea",
   "metadata": {
    "execution": {
     "iopub.execute_input": "2024-04-23T04:00:47.157454Z",
     "iopub.status.busy": "2024-04-23T04:00:47.157454Z",
     "iopub.status.idle": "2024-04-23T04:00:47.161518Z",
     "shell.execute_reply": "2024-04-23T04:00:47.160834Z",
     "shell.execute_reply.started": "2024-04-23T04:00:47.157454Z"
    }
   },
   "outputs": [],
   "source": [
    "# CDCbmi_boys.loc[(CDCbmi_boys.Age - 18.128249).abs().idxmin()]"
   ]
  },
  {
   "cell_type": "code",
   "execution_count": 14,
   "id": "53833375-d7cf-4481-be1f-94f1a39ceca6",
   "metadata": {
    "execution": {
     "iopub.execute_input": "2024-04-23T04:00:47.164508Z",
     "iopub.status.busy": "2024-04-23T04:00:47.164508Z",
     "iopub.status.idle": "2024-04-23T04:00:47.432808Z",
     "shell.execute_reply": "2024-04-23T04:00:47.432808Z",
     "shell.execute_reply.started": "2024-04-23T04:00:47.164508Z"
    }
   },
   "outputs": [],
   "source": [
    "WHOBMI_pred = []\n",
    "CDCBMI_pred = []\n",
    "df_temp = df[df['Adult'] == \"False\"]\n",
    "df_needed = df_temp[['Gender', 'Age', 'BMI']]\n",
    "for index, row in df_needed.iterrows():\n",
    "    if row['Gender'] == \"Male\":\n",
    "        WHO_entry = WHObmi_boys.loc[(WHObmi_boys.Age - row['Age']).abs().idxmin()]\n",
    "        CDC_entry = CDCbmi_boys.loc[(CDCbmi_boys.Age - row['Age']).abs().idxmin()]\n",
    "\n",
    "        for (pred, entry) in [(WHOBMI_pred, WHO_entry), (CDCBMI_pred, CDC_entry)]:\n",
    "            if row['BMI'] < entry['P5']:\n",
    "                pred.append('underweight')\n",
    "            elif row['BMI'] >= entry['P5'] and row['BMI'] < entry['P85']:\n",
    "                pred.append('healthy')\n",
    "            elif row['BMI'] >= entry['P85'] and row['BMI'] < entry['P95']:\n",
    "                pred.append('overweight')\n",
    "            elif row['BMI'] >= entry['P95'] and row['BMI'] < (1.25 * entry['P95']):\n",
    "                pred.append('obseity class 1')\n",
    "            elif row['BMI'] >= (1.25 * entry['P95']) and row['BMI'] < (1.4 * entry['P95']):\n",
    "                pred.append('obseity class 2')\n",
    "            else:\n",
    "                pred.append('obseity class 3')\n",
    "\n",
    "    elif row['Gender'] == \"Female\":\n",
    "        WHO_entry = WHObmi_girls.loc[(WHObmi_girls.Age - row['Age']).abs().idxmin()]\n",
    "        CDC_entry = CDCbmi_girls.loc[(CDCbmi_girls.Age - row['Age']).abs().idxmin()]\n",
    "\n",
    "        for (pred, entry) in [(WHOBMI_pred, WHO_entry), (CDCBMI_pred, CDC_entry)]:\n",
    "            if row['BMI'] < entry['P5']:\n",
    "                pred.append('underweight')\n",
    "            elif row['BMI'] >= entry['P5'] and row['BMI'] < entry['P85']:\n",
    "                pred.append('healthy')\n",
    "            elif row['BMI'] >= entry['P85'] and row['BMI'] < entry['P95']:\n",
    "                pred.append('overweight')\n",
    "            elif row['BMI'] >= entry['P95'] and row['BMI'] < (1.25 * entry['P95']):\n",
    "                pred.append('obseity class 1')\n",
    "            elif row['BMI'] >= (1.25 * entry['P95']) and row['BMI'] < (1.4 * entry['P95']):\n",
    "                pred.append('obseity class 2')\n",
    "            else:\n",
    "                pred.append('obseity class 3')\n",
    "        \n",
    "# df_temp['WHO BMI Predictions'] = WHOBMI_pred\n",
    "# df_temp['CDC BMI Predicitons'] = CDCBMI_pred\n",
    "# df_temp"
   ]
  },
  {
   "cell_type": "code",
   "execution_count": 15,
   "id": "b4031a04-85e8-4e96-a859-b34ab1990155",
   "metadata": {
    "execution": {
     "iopub.execute_input": "2024-04-23T04:00:47.434643Z",
     "iopub.status.busy": "2024-04-23T04:00:47.434134Z",
     "iopub.status.idle": "2024-04-23T04:00:47.442135Z",
     "shell.execute_reply": "2024-04-23T04:00:47.441140Z",
     "shell.execute_reply.started": "2024-04-23T04:00:47.434643Z"
    }
   },
   "outputs": [],
   "source": [
    "df['WHO BMI Predictions'] = 'N/A'\n",
    "df['CDC BMI Predictions'] = 'N/A'\n",
    "\n",
    "df.loc[df['Adult'] == 'False', 'WHO BMI Predictions'] = WHOBMI_pred\n",
    "df.loc[df['Adult'] == 'False', 'CDC BMI Predictions'] = CDCBMI_pred\n",
    "# df"
   ]
  },
  {
   "cell_type": "code",
   "execution_count": 16,
   "id": "261d8015-85cd-4562-8058-bd0049e8919e",
   "metadata": {
    "execution": {
     "iopub.execute_input": "2024-04-23T04:00:47.443132Z",
     "iopub.status.busy": "2024-04-23T04:00:47.443132Z",
     "iopub.status.idle": "2024-04-23T04:00:47.450543Z",
     "shell.execute_reply": "2024-04-23T04:00:47.449976Z",
     "shell.execute_reply.started": "2024-04-23T04:00:47.443132Z"
    }
   },
   "outputs": [],
   "source": [
    "# df[df['Adult'] == \"False\"].describe()"
   ]
  },
  {
   "cell_type": "code",
   "execution_count": 17,
   "id": "5433d7cd-7973-46b0-9c43-764136db0dd8",
   "metadata": {
    "execution": {
     "iopub.execute_input": "2024-04-23T04:00:47.451049Z",
     "iopub.status.busy": "2024-04-23T04:00:47.451049Z",
     "iopub.status.idle": "2024-04-23T04:00:47.457375Z",
     "shell.execute_reply": "2024-04-23T04:00:47.457375Z",
     "shell.execute_reply.started": "2024-04-23T04:00:47.451049Z"
    }
   },
   "outputs": [],
   "source": [
    "# df[df['WHO BMI Predictions'] != df['CDC BMI Predictions']]"
   ]
  },
  {
   "cell_type": "code",
   "execution_count": 18,
   "id": "01b08dc6-57e7-4460-927c-eed0488a7546",
   "metadata": {
    "execution": {
     "iopub.execute_input": "2024-04-23T04:00:47.458368Z",
     "iopub.status.busy": "2024-04-23T04:00:47.458368Z",
     "iopub.status.idle": "2024-04-23T04:00:47.472701Z",
     "shell.execute_reply": "2024-04-23T04:00:47.472701Z",
     "shell.execute_reply.started": "2024-04-23T04:00:47.458368Z"
    }
   },
   "outputs": [
    {
     "name": "stdout",
     "output_type": "stream",
     "text": [
      "Mem. usage decreased to 0.25 Mb (30.7% reduction)\n",
      "memory GB:0.22\n",
      "Memory reduced\n"
     ]
    }
   ],
   "source": [
    "df_lean = reduce_memory_usage(df.copy(), verbose=True)\n",
    "# test = reduce_memory_usage(test, verbose=True)\n",
    "print(cpu_stats())\n",
    "print('Memory reduced')"
   ]
  },
  {
   "cell_type": "code",
   "execution_count": 19,
   "id": "5fa6054c-de64-4898-a315-326f49046cdf",
   "metadata": {
    "execution": {
     "iopub.execute_input": "2024-04-23T04:00:47.474694Z",
     "iopub.status.busy": "2024-04-23T04:00:47.473727Z",
     "iopub.status.idle": "2024-04-23T04:00:47.576526Z",
     "shell.execute_reply": "2024-04-23T04:00:47.576526Z",
     "shell.execute_reply.started": "2024-04-23T04:00:47.474694Z"
    }
   },
   "outputs": [
    {
     "name": "stdout",
     "output_type": "stream",
     "text": [
      "features obtained\n"
     ]
    },
    {
     "data": {
      "image/png": "[encoded data removed]",
      "text/plain": [
       "<Figure size 640x480 with 1 Axes>"
      ]
     },
     "metadata": {},
     "output_type": "display_data"
    },
    {
     "name": "stdout",
     "output_type": "stream",
     "text": [
      "CPU times: total: 78.1 ms\n",
      "Wall time: 97.1 ms\n"
     ]
    }
   ],
   "source": [
    "%%time\n",
    "features=[]\n",
    "cat_features=[]\n",
    "cont_features=[]\n",
    "for feature in df_lean.columns:\n",
    "    features.append(feature)\n",
    "    if df_lean.dtypes[feature] in ['int8', 'object', 'bool']:\n",
    "        cat_features.append(feature)\n",
    "    if df_lean.dtypes[feature]=='float16':\n",
    "        cont_features.append(feature)\n",
    "    #print(test.dtypes[feature])\n",
    "print('features obtained')\n",
    "\n",
    "plt.bar([1,2],[len(cat_features),len(cont_features)])\n",
    "plt.xticks([1,2],('Categorical','continuous'))\n",
    "plt.show()"
   ]
  },
  {
   "cell_type": "code",
   "execution_count": 20,
   "id": "c1c2a659-99f4-4f42-8724-ecc0f4cad064",
   "metadata": {
    "execution": {
     "iopub.execute_input": "2024-04-23T04:00:47.577522Z",
     "iopub.status.busy": "2024-04-23T04:00:47.577522Z",
     "iopub.status.idle": "2024-04-23T04:00:47.591691Z",
     "shell.execute_reply": "2024-04-23T04:00:47.590706Z",
     "shell.execute_reply.started": "2024-04-23T04:00:47.577522Z"
    }
   },
   "outputs": [
    {
     "name": "stdout",
     "output_type": "stream",
     "text": [
      "**************************************** \n",
      "How much data was imported?\n",
      "****************************************\n",
      "Training data : (2111, 22)\n",
      "**************************************** \n",
      "\n",
      "**************************************** \n",
      "How much data is missing?\n",
      "****************************************\n",
      "Missing training data :  0.00 (0.0)%\n",
      "**************************************** \n",
      "\n",
      "**************************************** \n",
      "Feature types?\n",
      "****************************************\n",
      "Categorical features :  13\n",
      "Continuous features :  9\n",
      "**************************************** \n",
      "\n",
      "**************************************** \n",
      "Info on datasets\n",
      "****************************************\n",
      "<class 'pandas.core.frame.DataFrame'>\n",
      "RangeIndex: 2111 entries, 0 to 2110\n",
      "Data columns (total 22 columns):\n",
      " #   Column                          Non-Null Count  Dtype  \n",
      "---  ------                          --------------  -----  \n",
      " 0   Gender                          2111 non-null   object \n",
      " 1   Age                             2111 non-null   float16\n",
      " 2   Height                          2111 non-null   float16\n",
      " 3   Weight                          2111 non-null   float16\n",
      " 4   family_history_with_overweight  2111 non-null   object \n",
      " 5   FAVC                            2111 non-null   object \n",
      " 6   FCVC                            2111 non-null   float16\n",
      " 7   NCP                             2111 non-null   float16\n",
      " 8   CAEC                            2111 non-null   object \n",
      " 9   SMOKE                           2111 non-null   object \n",
      " 10  CH2O                            2111 non-null   float16\n",
      " 11  SCC                             2111 non-null   object \n",
      " 12  FAF                             2111 non-null   float16\n",
      " 13  TUE                             2111 non-null   float16\n",
      " 14  CALC                            2111 non-null   object \n",
      " 15  MTRANS                          2111 non-null   object \n",
      " 16  NObeyesdad                      2111 non-null   object \n",
      " 17  BMI                             2111 non-null   float16\n",
      " 18  Adult                           2111 non-null   object \n",
      " 19  Adult BMI Predictions           2111 non-null   object \n",
      " 20  WHO BMI Predictions             2111 non-null   object \n",
      " 21  CDC BMI Predictions             2111 non-null   object \n",
      "dtypes: float16(9), object(13)\n",
      "memory usage: 251.6+ KB\n",
      "None \n",
      "\n",
      "****************************************\n",
      "\n",
      "overview complete\n",
      "CPU times: total: 15.6 ms\n",
      "Wall time: 7.16 ms\n"
     ]
    }
   ],
   "source": [
    "%%time\n",
    "# Get shape of data\n",
    "print('*'*40, '\\nHow much data was imported?')\n",
    "print('*'*40)\n",
    "print('Training data :', df_lean.shape)\n",
    "# print('Test data :', test.shape)\n",
    "print('*'*40,\"\\n\")\n",
    "\n",
    "# missing data\n",
    "print('*'*40,'\\nHow much data is missing?')\n",
    "print('*'*40)\n",
    "training_missing_val_count_by_column = (df_lean.isnull().values.sum())\n",
    "# test_missing_val_count_by_column = (test.isnull().values.sum())\n",
    "print('Missing training data :  {:.2f} ({:.1f})%'.format (training_missing_val_count_by_column,training_missing_val_count_by_column/df_lean.shape[0]))\n",
    "# print('Missing test data :  {:.2f} ({:.1f})%'.format (test_missing_val_count_by_column,test_missing_val_count_by_column/test.shape[0]))\n",
    "print('*'*40,\"\\n\")\n",
    "\n",
    "# categorical data\n",
    "print('*'*40,'\\nFeature types?')\n",
    "print('*'*40)\n",
    "print('Categorical features : ', (len(cat_features)))\n",
    "print('Continuous features : ', (len(cont_features)))\n",
    "print('*'*40,'\\n')\n",
    "\n",
    "# get info\n",
    "print('*'*40,'\\nInfo on datasets')\n",
    "print('*'*40)\n",
    "print(df_lean.info(),'\\n')\n",
    "# print(test.info(),'\\n')\n",
    "print('*'*40)\n",
    "\n",
    "print('\\noverview complete')\n",
    "del training_missing_val_count_by_column #,test_missing_val_count_by_column"
   ]
  },
  {
   "cell_type": "code",
   "execution_count": 21,
   "id": "9d5b0212-33e0-48bd-92ca-86134b71e7ef",
   "metadata": {
    "execution": {
     "iopub.execute_input": "2024-04-23T04:00:47.593124Z",
     "iopub.status.busy": "2024-04-23T04:00:47.593124Z",
     "iopub.status.idle": "2024-04-23T04:00:47.599536Z",
     "shell.execute_reply": "2024-04-23T04:00:47.598557Z",
     "shell.execute_reply.started": "2024-04-23T04:00:47.593124Z"
    }
   },
   "outputs": [],
   "source": [
    "y = df['NObeyesdad']\n",
    "X = df.drop(columns='NObeyesdad')\n",
    "\n",
    "y_lean = df_lean['NObeyesdad']\n",
    "X_lean = df_lean.drop(columns='NObeyesdad')"
   ]
  },
  {
   "cell_type": "code",
   "execution_count": 22,
   "id": "06dbfa9d-9a08-4c75-9d46-699c485e82cb",
   "metadata": {
    "execution": {
     "iopub.execute_input": "2024-04-23T04:00:47.601041Z",
     "iopub.status.busy": "2024-04-23T04:00:47.600045Z",
     "iopub.status.idle": "2024-04-23T04:00:47.609583Z",
     "shell.execute_reply": "2024-04-23T04:00:47.609583Z",
     "shell.execute_reply.started": "2024-04-23T04:00:47.601041Z"
    }
   },
   "outputs": [
    {
     "data": {
      "text/plain": [
       "['Gender',\n",
       " 'family_history_with_overweight',\n",
       " 'FAVC',\n",
       " 'CAEC',\n",
       " 'SMOKE',\n",
       " 'SCC',\n",
       " 'CALC',\n",
       " 'MTRANS',\n",
       " 'NObeyesdad',\n",
       " 'Adult',\n",
       " 'Adult BMI Predictions',\n",
       " 'WHO BMI Predictions',\n",
       " 'CDC BMI Predictions']"
      ]
     },
     "execution_count": 22,
     "metadata": {},
     "output_type": "execute_result"
    }
   ],
   "source": [
    "cat_features"
   ]
  },
  {
   "cell_type": "code",
   "execution_count": 23,
   "id": "0d74aac1-c266-4b98-8823-3f1e449432df",
   "metadata": {
    "execution": {
     "iopub.execute_input": "2024-04-23T04:00:47.611574Z",
     "iopub.status.busy": "2024-04-23T04:00:47.610576Z",
     "iopub.status.idle": "2024-04-23T04:00:47.622791Z",
     "shell.execute_reply": "2024-04-23T04:00:47.621796Z",
     "shell.execute_reply.started": "2024-04-23T04:00:47.611574Z"
    }
   },
   "outputs": [
    {
     "name": "stdout",
     "output_type": "stream",
     "text": [
      "['Female' 'Male']\n",
      "['yes' 'no']\n",
      "['no' 'yes']\n",
      "['Sometimes' 'Frequently' 'Always' 'no']\n",
      "['no' 'yes']\n",
      "['no' 'yes']\n",
      "['no' 'Sometimes' 'Frequently' 'Always']\n",
      "['Public_Transportation' 'Walking' 'Automobile' 'Motorbike' 'Bike']\n",
      "['Normal_Weight' 'Overweight_Level_I' 'Overweight_Level_II'\n",
      " 'Obesity_Type_I' 'Insufficient_Weight' 'Obesity_Type_II'\n",
      " 'Obesity_Type_III']\n",
      "['True' 'False']\n",
      "['healthy' 'overweight' 'obseity class 1' 'N/A' 'underweight'\n",
      " 'obseity class 2' 'obseity class 3']\n",
      "['N/A' 'healthy' 'overweight' 'obseity class 1' 'underweight'\n",
      " 'obseity class 3' 'obseity class 2']\n",
      "['N/A' 'healthy' 'underweight' 'obseity class 1' 'overweight'\n",
      " 'obseity class 3' 'obseity class 2']\n"
     ]
    }
   ],
   "source": [
    "for cat_feat in cat_features:\n",
    "    print(df[cat_feat].unique())"
   ]
  },
  {
   "cell_type": "code",
   "execution_count": 24,
   "id": "47083ba2-a8d1-4a89-82a7-9ad82108bc78",
   "metadata": {
    "execution": {
     "iopub.execute_input": "2024-04-23T04:00:47.623788Z",
     "iopub.status.busy": "2024-04-23T04:00:47.623788Z",
     "iopub.status.idle": "2024-04-23T04:00:47.631316Z",
     "shell.execute_reply": "2024-04-23T04:00:47.631316Z",
     "shell.execute_reply.started": "2024-04-23T04:00:47.623788Z"
    }
   },
   "outputs": [
    {
     "name": "stdout",
     "output_type": "stream",
     "text": [
      "['Gender', 'family_history_with_overweight', 'FAVC', 'SMOKE', 'SCC', 'MTRANS', 'Adult']\n",
      "\n",
      "['Female' 'Male']\n",
      "['yes' 'no']\n",
      "['no' 'yes']\n",
      "['no' 'yes']\n",
      "['no' 'yes']\n",
      "['Public_Transportation' 'Walking' 'Automobile' 'Motorbike' 'Bike']\n",
      "['True' 'False']\n"
     ]
    }
   ],
   "source": [
    "nominal_features = [cat_features[i] for i in [0, 1, 2, 4, 5, 7, 9]]\n",
    "print(nominal_features)\n",
    "print()\n",
    "for cat_feat in nominal_features:\n",
    "    print(df[cat_feat].unique())"
   ]
  },
  {
   "cell_type": "code",
   "execution_count": 25,
   "id": "596c21dd-2590-46cf-b0f4-b4eda60c2852",
   "metadata": {
    "execution": {
     "iopub.execute_input": "2024-04-23T04:00:47.632311Z",
     "iopub.status.busy": "2024-04-23T04:00:47.632311Z",
     "iopub.status.idle": "2024-04-23T04:00:47.641784Z",
     "shell.execute_reply": "2024-04-23T04:00:47.640789Z",
     "shell.execute_reply.started": "2024-04-23T04:00:47.632311Z"
    }
   },
   "outputs": [
    {
     "name": "stdout",
     "output_type": "stream",
     "text": [
      "['CAEC', 'CALC', 'Adult BMI Predictions', 'WHO BMI Predictions', 'CDC BMI Predictions']\n",
      "\n",
      "['Sometimes' 'Frequently' 'Always' 'no']\n",
      "['no' 'Sometimes' 'Frequently' 'Always']\n",
      "['healthy' 'overweight' 'obseity class 1' 'N/A' 'underweight'\n",
      " 'obseity class 2' 'obseity class 3']\n",
      "['N/A' 'healthy' 'overweight' 'obseity class 1' 'underweight'\n",
      " 'obseity class 3' 'obseity class 2']\n",
      "['N/A' 'healthy' 'underweight' 'obseity class 1' 'overweight'\n",
      " 'obseity class 3' 'obseity class 2']\n"
     ]
    }
   ],
   "source": [
    "ordinal_features = [cat_features[i] for i in [3, 6, 10, 11, 12]]\n",
    "print(ordinal_features)\n",
    "print()\n",
    "for cat_feat in ordinal_features:\n",
    "    print(df[cat_feat].unique())"
   ]
  },
  {
   "cell_type": "code",
   "execution_count": 26,
   "id": "a2e1da29-09e9-458b-a4fa-52af731fec02",
   "metadata": {
    "execution": {
     "iopub.execute_input": "2024-04-23T04:00:47.642781Z",
     "iopub.status.busy": "2024-04-23T04:00:47.641784Z",
     "iopub.status.idle": "2024-04-23T04:00:47.647574Z",
     "shell.execute_reply": "2024-04-23T04:00:47.647574Z",
     "shell.execute_reply.started": "2024-04-23T04:00:47.642781Z"
    }
   },
   "outputs": [],
   "source": [
    "# df"
   ]
  },
  {
   "cell_type": "code",
   "execution_count": 27,
   "id": "b19f7df6-1908-461b-ac98-985d18cf1613",
   "metadata": {
    "execution": {
     "iopub.execute_input": "2024-04-23T04:00:47.649566Z",
     "iopub.status.busy": "2024-04-23T04:00:47.648569Z",
     "iopub.status.idle": "2024-04-23T04:00:47.656418Z",
     "shell.execute_reply": "2024-04-23T04:00:47.655556Z",
     "shell.execute_reply.started": "2024-04-23T04:00:47.649566Z"
    }
   },
   "outputs": [],
   "source": [
    "# X"
   ]
  },
  {
   "cell_type": "code",
   "execution_count": 28,
   "id": "80b15d30-cde5-4959-ae2a-5eb468e9358e",
   "metadata": {
    "execution": {
     "iopub.execute_input": "2024-04-23T04:00:47.657414Z",
     "iopub.status.busy": "2024-04-23T04:00:47.657414Z",
     "iopub.status.idle": "2024-04-23T04:00:47.679832Z",
     "shell.execute_reply": "2024-04-23T04:00:47.678838Z",
     "shell.execute_reply.started": "2024-04-23T04:00:47.657414Z"
    }
   },
   "outputs": [],
   "source": [
    "# Manual encoding\n",
    "manual_enc = ColumnTransformer(\n",
    "    [\n",
    "        ('numerical', 'passthrough', cont_features),\n",
    "        ('ordinal', OrdinalEncoder(categories=[\n",
    "            ['no', 'Sometimes', 'Frequently', 'Always'],\n",
    "            ['no', 'Sometimes', 'Frequently', 'Always'],\n",
    "            ['N/A', 'underweight', 'healthy', 'overweight', 'obseity class 1', 'obseity class 2', 'obseity class 3'],\n",
    "            ['N/A', 'underweight', 'healthy', 'overweight', 'obseity class 1', 'obseity class 2', 'obseity class 3'],\n",
    "            ['N/A', 'underweight', 'healthy', 'overweight', 'obseity class 1', 'obseity class 2', 'obseity class 3']\n",
    "        ]), ordinal_features),\n",
    "        ('nominal', OneHotEncoder(sparse_output=False), nominal_features)\n",
    "    ]\n",
    ")\n",
    "    \n",
    "X_enc = manual_enc.fit_transform(X, y)\n",
    "# X_enc"
   ]
  },
  {
   "cell_type": "code",
   "execution_count": 29,
   "id": "31b2e865-87e5-42d8-8f1b-fd204b3778b9",
   "metadata": {
    "execution": {
     "iopub.execute_input": "2024-04-23T04:00:47.680830Z",
     "iopub.status.busy": "2024-04-23T04:00:47.680830Z",
     "iopub.status.idle": "2024-04-23T04:00:47.683719Z",
     "shell.execute_reply": "2024-04-23T04:00:47.683719Z",
     "shell.execute_reply.started": "2024-04-23T04:00:47.680830Z"
    }
   },
   "outputs": [],
   "source": [
    "# manual_enc.get_params()['ordinal'].categories"
   ]
  },
  {
   "cell_type": "code",
   "execution_count": 30,
   "id": "588b5645-8b97-4277-869b-cd545d829afe",
   "metadata": {
    "execution": {
     "iopub.execute_input": "2024-04-23T04:00:47.685700Z",
     "iopub.status.busy": "2024-04-23T04:00:47.684703Z",
     "iopub.status.idle": "2024-04-23T04:00:47.692716Z",
     "shell.execute_reply": "2024-04-23T04:00:47.691723Z",
     "shell.execute_reply.started": "2024-04-23T04:00:47.685700Z"
    }
   },
   "outputs": [],
   "source": [
    "# X_enc.iloc[:, 9:14]"
   ]
  },
  {
   "cell_type": "code",
   "execution_count": 31,
   "id": "7858e0d9-3fd5-46b1-8b29-f4069c579fa7",
   "metadata": {
    "execution": {
     "iopub.execute_input": "2024-04-23T04:00:47.693714Z",
     "iopub.status.busy": "2024-04-23T04:00:47.693714Z",
     "iopub.status.idle": "2024-04-23T04:00:47.702155Z",
     "shell.execute_reply": "2024-04-23T04:00:47.699183Z",
     "shell.execute_reply.started": "2024-04-23T04:00:47.693714Z"
    }
   },
   "outputs": [],
   "source": [
    "# X_enc.iloc[:, 15:]"
   ]
  },
  {
   "cell_type": "code",
   "execution_count": 32,
   "id": "81b9fa03-f00b-4d66-b24f-c7c06cd2a52d",
   "metadata": {
    "execution": {
     "iopub.execute_input": "2024-04-23T04:00:47.703152Z",
     "iopub.status.busy": "2024-04-23T04:00:47.703152Z",
     "iopub.status.idle": "2024-04-23T04:00:47.708695Z",
     "shell.execute_reply": "2024-04-23T04:00:47.708695Z",
     "shell.execute_reply.started": "2024-04-23T04:00:47.703152Z"
    }
   },
   "outputs": [],
   "source": [
    "# manual_enc.transformers"
   ]
  },
  {
   "cell_type": "code",
   "execution_count": 33,
   "id": "231ab003-89cb-4456-ae6e-5414af1ed589",
   "metadata": {
    "execution": {
     "iopub.execute_input": "2024-04-23T04:00:47.709691Z",
     "iopub.status.busy": "2024-04-23T04:00:47.709691Z",
     "iopub.status.idle": "2024-04-23T04:00:47.716958Z",
     "shell.execute_reply": "2024-04-23T04:00:47.716958Z",
     "shell.execute_reply.started": "2024-04-23T04:00:47.709691Z"
    }
   },
   "outputs": [],
   "source": [
    "# manual_enc.output_indices_"
   ]
  },
  {
   "cell_type": "code",
   "execution_count": 34,
   "id": "2531fa27-7f74-4e4c-a80b-81c123493685",
   "metadata": {
    "execution": {
     "iopub.execute_input": "2024-04-23T04:00:47.718950Z",
     "iopub.status.busy": "2024-04-23T04:00:47.717953Z",
     "iopub.status.idle": "2024-04-23T04:00:47.723242Z",
     "shell.execute_reply": "2024-04-23T04:00:47.723242Z",
     "shell.execute_reply.started": "2024-04-23T04:00:47.718950Z"
    }
   },
   "outputs": [],
   "source": [
    "# X"
   ]
  },
  {
   "cell_type": "code",
   "execution_count": 35,
   "id": "a56ff3c8-8fb6-41c0-890e-f351dc3e6b9a",
   "metadata": {
    "execution": {
     "iopub.execute_input": "2024-04-23T04:00:47.725235Z",
     "iopub.status.busy": "2024-04-23T04:00:47.724237Z",
     "iopub.status.idle": "2024-04-23T04:00:47.730030Z",
     "shell.execute_reply": "2024-04-23T04:00:47.730030Z",
     "shell.execute_reply.started": "2024-04-23T04:00:47.725235Z"
    }
   },
   "outputs": [],
   "source": [
    "# Manual encoding\n",
    "col_enc1 = ColumnTransformer(\n",
    "    [\n",
    "        ('numerical', 'passthrough', cont_features),\n",
    "        ('ordinal', OrdinalEncoder(categories=[\n",
    "            ['no', 'Sometimes', 'Frequently', 'Always'],\n",
    "            ['no', 'Sometimes', 'Frequently', 'Always'],\n",
    "            ['N/A', 'underweight', 'healthy', 'overweight', 'obseity class 1', 'obseity class 2', 'obseity class 3'],\n",
    "            ['N/A', 'underweight', 'healthy', 'overweight', 'obseity class 1', 'obseity class 2', 'obseity class 3'],\n",
    "            ['N/A', 'underweight', 'healthy', 'overweight', 'obseity class 1', 'obseity class 2', 'obseity class 3']\n",
    "        ]), ordinal_features),\n",
    "        ('nominal', OneHotEncoder(sparse_output=False), nominal_features)\n",
    "    ], verbose_feature_names_out=False\n",
    ")"
   ]
  },
  {
   "cell_type": "code",
   "execution_count": 36,
   "id": "fc32b9c8-50bc-4584-b8c7-146421f9e51d",
   "metadata": {
    "execution": {
     "iopub.execute_input": "2024-04-23T04:00:47.731372Z",
     "iopub.status.busy": "2024-04-23T04:00:47.731372Z",
     "iopub.status.idle": "2024-04-23T04:00:47.772011Z",
     "shell.execute_reply": "2024-04-23T04:00:47.771105Z",
     "shell.execute_reply.started": "2024-04-23T04:00:47.731372Z"
    }
   },
   "outputs": [],
   "source": [
    "col_enc2 = ColumnTransformer(\n",
    "    [\n",
    "        ('numerIteract', Pipeline(\n",
    "            [\n",
    "                ('interact', PolynomialFeatures(degree=2, interaction_only=True, include_bias=False)),\n",
    "                ('scale', StandardScaler())\n",
    "            ]), slice(0, 9)),\n",
    "        ('catInteract', PolynomialFeatures(degree=2, interaction_only=True, include_bias=False), slice(14, 31))\n",
    "    ], verbose_feature_names_out=False\n",
    ")\n",
    "\n",
    "manual_enc2 = Pipeline([('Categorical Preprocessing', col_enc1), ('Interaction Terms', col_enc2)])\n",
    "    \n",
    "X_enc2 = manual_enc2.fit_transform(X.copy(), y)\n",
    "# X_enc2"
   ]
  },
  {
   "cell_type": "code",
   "execution_count": 37,
   "id": "a4dfe447-7b12-46eb-a962-f84563caf477",
   "metadata": {
    "execution": {
     "iopub.execute_input": "2024-04-23T04:00:47.773002Z",
     "iopub.status.busy": "2024-04-23T04:00:47.772011Z",
     "iopub.status.idle": "2024-04-23T04:00:47.776258Z",
     "shell.execute_reply": "2024-04-23T04:00:47.776258Z",
     "shell.execute_reply.started": "2024-04-23T04:00:47.773002Z"
    }
   },
   "outputs": [],
   "source": [
    "# X"
   ]
  },
  {
   "cell_type": "code",
   "execution_count": 38,
   "id": "ed0bd76a-2e5d-4e7f-b751-dea594f1920a",
   "metadata": {
    "execution": {
     "iopub.execute_input": "2024-04-23T04:00:47.778253Z",
     "iopub.status.busy": "2024-04-23T04:00:47.777255Z",
     "iopub.status.idle": "2024-04-23T04:00:47.783159Z",
     "shell.execute_reply": "2024-04-23T04:00:47.783159Z",
     "shell.execute_reply.started": "2024-04-23T04:00:47.778253Z"
    }
   },
   "outputs": [],
   "source": [
    "# X_enc2.iloc[:, 3].describe()"
   ]
  },
  {
   "cell_type": "code",
   "execution_count": 39,
   "id": "bfe4a1eb-4cbb-48f7-b706-0c7a7e4ecc87",
   "metadata": {
    "execution": {
     "iopub.execute_input": "2024-04-23T04:00:47.785152Z",
     "iopub.status.busy": "2024-04-23T04:00:47.785152Z",
     "iopub.status.idle": "2024-04-23T04:00:47.792741Z",
     "shell.execute_reply": "2024-04-23T04:00:47.792741Z",
     "shell.execute_reply.started": "2024-04-23T04:00:47.785152Z"
    }
   },
   "outputs": [],
   "source": [
    "# y"
   ]
  },
  {
   "cell_type": "code",
   "execution_count": 40,
   "id": "97596568-38eb-44be-b17a-1eae4d4ecca6",
   "metadata": {
    "execution": {
     "iopub.execute_input": "2024-04-23T04:00:47.794725Z",
     "iopub.status.busy": "2024-04-23T04:00:47.793727Z",
     "iopub.status.idle": "2024-04-23T04:00:47.799692Z",
     "shell.execute_reply": "2024-04-23T04:00:47.799692Z",
     "shell.execute_reply.started": "2024-04-23T04:00:47.794725Z"
    }
   },
   "outputs": [],
   "source": [
    "# X_enc['Gender']"
   ]
  },
  {
   "cell_type": "code",
   "execution_count": 41,
   "id": "0600513c-6351-4b42-81f4-51307b01634c",
   "metadata": {
    "execution": {
     "iopub.execute_input": "2024-04-23T04:00:47.801686Z",
     "iopub.status.busy": "2024-04-23T04:00:47.800688Z",
     "iopub.status.idle": "2024-04-23T04:00:47.809786Z",
     "shell.execute_reply": "2024-04-23T04:00:47.809786Z",
     "shell.execute_reply.started": "2024-04-23T04:00:47.801686Z"
    }
   },
   "outputs": [],
   "source": [
    "def eval_cluster(y_true, y_pred):\n",
    "    scores = [fowlkes_mallows_score, homogeneity_completeness_v_measure, adjusted_mutual_info_score, normalized_mutual_info_score, adjusted_rand_score, rand_score]\n",
    "    names = [\"fowlkes_mallows_score\", \"homogeneity_completeness_v_measure\", \"adjusted_mutual_info_score\", \"normalized_mutual_info_score\", \"adjusted_rand_score\", \"rand_score\"]\n",
    "    for score, name in zip(scores, names):\n",
    "        print(f\"{name}: {score(y_true, y_pred)}\")"
   ]
  },
  {
   "cell_type": "code",
   "execution_count": 42,
   "id": "14d2d927-1052-4f7b-8d89-28d06297b0c3",
   "metadata": {
    "execution": {
     "iopub.execute_input": "2024-04-23T04:00:47.811780Z",
     "iopub.status.busy": "2024-04-23T04:00:47.810782Z",
     "iopub.status.idle": "2024-04-23T04:00:47.815616Z",
     "shell.execute_reply": "2024-04-23T04:00:47.815616Z",
     "shell.execute_reply.started": "2024-04-23T04:00:47.811780Z"
    }
   },
   "outputs": [],
   "source": [
    "# KM = KMeans().fit_predict(X_enc2, y)\n",
    "# pd.Series(KM).describe()\n",
    "# print()\n",
    "# eval_cluster(KM, y)"
   ]
  },
  {
   "cell_type": "code",
   "execution_count": 43,
   "id": "757dbad3-d7c4-49bf-ba84-f746c3c6cd5d",
   "metadata": {
    "execution": {
     "iopub.execute_input": "2024-04-23T04:00:47.817610Z",
     "iopub.status.busy": "2024-04-23T04:00:47.816612Z",
     "iopub.status.idle": "2024-04-23T04:00:47.823294Z",
     "shell.execute_reply": "2024-04-23T04:00:47.823294Z",
     "shell.execute_reply.started": "2024-04-23T04:00:47.817610Z"
    }
   },
   "outputs": [],
   "source": [
    "# KMpp = KMeans(init='k-means++').fit_predict(X_enc2, y)\n",
    "# pd.Series(KMpp).describe()\n",
    "# print()\n",
    "# eval_cluster(KMpp, y)"
   ]
  },
  {
   "cell_type": "code",
   "execution_count": 44,
   "id": "e63c1df4-c19c-411f-8ee6-52c82bf68882",
   "metadata": {
    "execution": {
     "iopub.execute_input": "2024-04-23T04:00:47.829341Z",
     "iopub.status.busy": "2024-04-23T04:00:47.828344Z",
     "iopub.status.idle": "2024-04-23T04:00:47.832243Z",
     "shell.execute_reply": "2024-04-23T04:00:47.831629Z",
     "shell.execute_reply.started": "2024-04-23T04:00:47.828344Z"
    }
   },
   "outputs": [],
   "source": [
    "# GaussMix = GaussianMixture(n_components=7).fit_predict(X_enc2, y)\n",
    "# pd.Series(GaussMix).describe()\n",
    "# print()\n",
    "# eval_cluster(GaussMix, y)"
   ]
  },
  {
   "cell_type": "code",
   "execution_count": 45,
   "id": "0418ba3f-0f45-4192-8e6c-d440b6c2959a",
   "metadata": {
    "execution": {
     "iopub.execute_input": "2024-04-23T04:00:47.833534Z",
     "iopub.status.busy": "2024-04-23T04:00:47.833026Z",
     "iopub.status.idle": "2024-04-23T04:00:47.839182Z",
     "shell.execute_reply": "2024-04-23T04:00:47.839182Z",
     "shell.execute_reply.started": "2024-04-23T04:00:47.833534Z"
    }
   },
   "outputs": [],
   "source": [
    "# BayesGaussMix = BayesianGaussianMixture(n_components=7).fit_predict(X_enc2, y)\n",
    "# pd.Series(BayesGaussMix).describe()\n",
    "# print()\n",
    "# eval_cluster(BayesGaussMix, y)"
   ]
  },
  {
   "cell_type": "code",
   "execution_count": 46,
   "id": "0867264b-0de6-40a8-99ab-aa1acd1aa13a",
   "metadata": {
    "execution": {
     "iopub.execute_input": "2024-04-23T04:00:47.841174Z",
     "iopub.status.busy": "2024-04-23T04:00:47.840177Z",
     "iopub.status.idle": "2024-04-23T04:00:47.846021Z",
     "shell.execute_reply": "2024-04-23T04:00:47.846021Z",
     "shell.execute_reply.started": "2024-04-23T04:00:47.841174Z"
    }
   },
   "outputs": [],
   "source": [
    "# BSKM = BisectingKMeans().fit_predict(X_enc2, y)\n",
    "# pd.Series(BSKM).describe()\n",
    "# print()\n",
    "# eval_cluster(BSKM, y)"
   ]
  },
  {
   "cell_type": "code",
   "execution_count": 47,
   "id": "6a1e44b6-b178-48d9-b074-94e9869b3a41",
   "metadata": {
    "execution": {
     "iopub.execute_input": "2024-04-23T04:00:47.848012Z",
     "iopub.status.busy": "2024-04-23T04:00:47.847015Z",
     "iopub.status.idle": "2024-04-23T04:00:47.852625Z",
     "shell.execute_reply": "2024-04-23T04:00:47.852625Z",
     "shell.execute_reply.started": "2024-04-23T04:00:47.847015Z"
    }
   },
   "outputs": [],
   "source": [
    "## Hmm, wonder if overfitting..."
   ]
  },
  {
   "cell_type": "code",
   "execution_count": 48,
   "id": "9352a5ac-9874-4996-855b-3ae347568080",
   "metadata": {
    "execution": {
     "iopub.execute_input": "2024-04-23T04:00:47.854220Z",
     "iopub.status.busy": "2024-04-23T04:00:47.854220Z",
     "iopub.status.idle": "2024-04-23T04:00:47.860353Z",
     "shell.execute_reply": "2024-04-23T04:00:47.859358Z",
     "shell.execute_reply.started": "2024-04-23T04:00:47.854220Z"
    }
   },
   "outputs": [],
   "source": [
    "# BSKM2 = BisectingKMeans().fit_predict(X_enc, y)\n",
    "# pd.Series(BSKM2).describe()\n",
    "# print()\n",
    "# eval_cluster(BSKM2, y)"
   ]
  },
  {
   "cell_type": "code",
   "execution_count": 49,
   "id": "ff382bc9-6f3f-4785-aa74-cd16978d1f4a",
   "metadata": {
    "execution": {
     "iopub.execute_input": "2024-04-23T04:00:47.861351Z",
     "iopub.status.busy": "2024-04-23T04:00:47.860353Z",
     "iopub.status.idle": "2024-04-23T04:00:47.868089Z",
     "shell.execute_reply": "2024-04-23T04:00:47.868089Z",
     "shell.execute_reply.started": "2024-04-23T04:00:47.861351Z"
    }
   },
   "outputs": [],
   "source": [
    "# BSKM3 = BisectingKMeans().fit_predict(OrdinalEncoder().fit_transform(X.copy(), y), y)\n",
    "# pd.Series(BSKM3).describe()\n",
    "# print()\n",
    "# eval_cluster(BSKM3, y)"
   ]
  },
  {
   "cell_type": "code",
   "execution_count": 50,
   "id": "50fa5568-98a7-45f2-9851-54a3cb945ac9",
   "metadata": {
    "execution": {
     "iopub.execute_input": "2024-04-23T04:00:47.870080Z",
     "iopub.status.busy": "2024-04-23T04:00:47.870080Z",
     "iopub.status.idle": "2024-04-23T04:00:47.876497Z",
     "shell.execute_reply": "2024-04-23T04:00:47.876497Z",
     "shell.execute_reply.started": "2024-04-23T04:00:47.870080Z"
    }
   },
   "outputs": [],
   "source": [
    "# BSKM4 = BisectingKMeans().fit_predict(StandardScaler().fit_transform(OrdinalEncoder().fit_transform(X.copy(), y), y), y)\n",
    "# pd.Series(BSKM4).describe()\n",
    "# print()\n",
    "# eval_cluster(BSKM4, y)"
   ]
  },
  {
   "cell_type": "code",
   "execution_count": 51,
   "id": "56553d97-f924-49b5-ae45-e877d30d1397",
   "metadata": {
    "execution": {
     "iopub.execute_input": "2024-04-23T04:00:47.877492Z",
     "iopub.status.busy": "2024-04-23T04:00:47.877492Z",
     "iopub.status.idle": "2024-04-23T04:00:47.884474Z",
     "shell.execute_reply": "2024-04-23T04:00:47.882480Z",
     "shell.execute_reply.started": "2024-04-23T04:00:47.877492Z"
    }
   },
   "outputs": [],
   "source": [
    "# X"
   ]
  },
  {
   "cell_type": "code",
   "execution_count": 52,
   "id": "d7883f36-8ecb-404c-8500-bbac0450cb2e",
   "metadata": {
    "execution": {
     "iopub.execute_input": "2024-04-23T04:00:47.886123Z",
     "iopub.status.busy": "2024-04-23T04:00:47.886123Z",
     "iopub.status.idle": "2024-04-23T04:00:47.895429Z",
     "shell.execute_reply": "2024-04-23T04:00:47.895169Z",
     "shell.execute_reply.started": "2024-04-23T04:00:47.886123Z"
    }
   },
   "outputs": [],
   "source": [
    "# Modified from HW 5 Q2 Part a.\n",
    "def train_and_evaluate_classifier(name, clf, X_train, y_train, X_test, y_test, cv=5, debug=False, learning_curve=False, confusion=False, supress_outputs=True):\n",
    "  print(name)\n",
    "    \n",
    "  t0 = time()\n",
    "  # Fit your classifier on the training set\n",
    "  ### START CODE ###\n",
    "  clf.fit(X_train, y_train)\n",
    "  ### END CODE ###\n",
    "  if supress_outputs == False:\n",
    "      print(\"training time\", round(time()-t0, 3), \"s\")\n",
    "\n",
    "  t0 = time()\n",
    "  y_train_pred = clf.predict(X_train)\n",
    "  y_test_pred = clf.predict(X_test)\n",
    "  if supress_outputs == False:\n",
    "      print(\"predict time\", round(time()-t0, 3), \"s\")\n",
    "\n",
    "  if supress_outputs == False:\n",
    "    print(\"Confusion matrix: \")\n",
    "  # Print the confusion matrix computed from the test set (1 line of code only)\n",
    "  ### START CODE ###\n",
    "  #print(confusion_matrix(y_test, y_pred))\n",
    "  # ConfusionMatrixDisplay.from_estimator(clf, X_train, y_train)\n",
    "  if confusion == True:\n",
    "      ConfusionMatrixDisplay.from_estimator(clf, X_test, y_test)\n",
    "      plt.show()\n",
    "  ### END CODE ###\n",
    "\n",
    "\n",
    "  ### START CODE ###\n",
    "  y_train_pred_proba = clf.predict_proba(X_train)\n",
    "  y_test_pred_proba = clf.predict_proba(X_test)\n",
    "    \n",
    "  if debug == True:\n",
    "      print(y_test_pred_proba)\n",
    "\n",
    "  train_acc_score = accuracy_score(y_train, y_train_pred)\n",
    "  test_acc_score = accuracy_score(y_test, y_test_pred)\n",
    "\n",
    "  train_auc_score_ovo = roc_auc_score(y_train, y_train_pred_proba, multi_class='ovo')  \n",
    "  train_auc_score_ovr = roc_auc_score(y_train, y_train_pred_proba, multi_class='ovr')\n",
    "    \n",
    "  test_auc_score_ovo = roc_auc_score(y_test, y_test_pred_proba, multi_class='ovo')  \n",
    "  test_auc_score_ovr = roc_auc_score(y_test, y_test_pred_proba, multi_class='ovr')\n",
    "  ### END CODE ###\n",
    "    \n",
    "  if supress_outputs == False:\n",
    "      print(\"TRAIN - Accuracy: {}, AUC_ROC_OVO: {}, AUC_ROC_OVR: {}\".format(train_acc_score, train_auc_score_ovo, train_auc_score_ovr))\n",
    "      print(\"TEST - Accuracy: {}, AUC_ROC_OVO: {}, AUC_ROC_OVR: {}\".format(test_acc_score, test_auc_score_ovo, test_auc_score_ovr))\n",
    "\n",
    "  # Display Learning curve\n",
    "  if learning_curve == True:\n",
    "      LearningCurveDisplay.from_estimator(clf, X_train, y_train, scoring='accuracy')\n",
    "  #RocCurveDisplay.from_estimator(clf, X_test, y_test)\n",
    "\n",
    "  train_results = [train_acc_score, train_auc_score_ovo, train_auc_score_ovr]\n",
    "  test_results = [test_acc_score, test_auc_score_ovo, test_auc_score_ovr]\n",
    "  return train_results, test_results"
   ]
  },
  {
   "cell_type": "code",
   "execution_count": 53,
   "id": "f9418700-8c09-4556-8a9b-2614a2794858",
   "metadata": {
    "execution": {
     "iopub.execute_input": "2024-04-23T04:00:47.896933Z",
     "iopub.status.busy": "2024-04-23T04:00:47.895938Z",
     "iopub.status.idle": "2024-04-23T04:00:47.899652Z",
     "shell.execute_reply": "2024-04-23T04:00:47.899652Z",
     "shell.execute_reply.started": "2024-04-23T04:00:47.896933Z"
    }
   },
   "outputs": [],
   "source": [
    "preprocessed = ['Ordinal', 'Manual Encoding', \"Enc + Pairwise\"]"
   ]
  },
  {
   "cell_type": "code",
   "execution_count": 54,
   "id": "d6b7842b-7aa4-4d8b-9b67-6c48549afc1f",
   "metadata": {
    "execution": {
     "iopub.execute_input": "2024-04-23T04:00:47.900646Z",
     "iopub.status.busy": "2024-04-23T04:00:47.900646Z",
     "iopub.status.idle": "2024-04-23T04:00:47.940394Z",
     "shell.execute_reply": "2024-04-23T04:00:47.940394Z",
     "shell.execute_reply.started": "2024-04-23T04:00:47.900646Z"
    }
   },
   "outputs": [],
   "source": [
    "X_s = [OrdinalEncoder().fit_transform(X.copy()), X_enc, X_enc2]\n",
    "\n",
    "X_train = [None] * len(X_s)\n",
    "X_test = [None] * len(X_s)\n",
    "y_train = [None] * len(X_s)\n",
    "y_test = [None] * len(X_s)\n",
    "\n",
    "for i, X in enumerate(X_s):\n",
    "    X_train[i], X_test[i], y_train[i], y_test[i] = train_test_split(X, y, test_size=1/3, random_state=42)"
   ]
  },
  {
   "cell_type": "code",
   "execution_count": 55,
   "id": "39b88f3c-e072-44bc-a5f7-6a1baf3bcd6b",
   "metadata": {
    "execution": {
     "iopub.execute_input": "2024-04-23T04:00:47.950634Z",
     "iopub.status.busy": "2024-04-23T04:00:47.949637Z",
     "iopub.status.idle": "2024-04-23T04:00:48.253646Z",
     "shell.execute_reply": "2024-04-23T04:00:48.252649Z",
     "shell.execute_reply.started": "2024-04-23T04:00:47.950634Z"
    }
   },
   "outputs": [
    {
     "name": "stdout",
     "output_type": "stream",
     "text": [
      "Decision Tree Ordinal\n",
      "training time 0.015 s\n",
      "predict time 0.003 s\n",
      "Confusion matrix: \n",
      "TRAIN - Accuracy: 1.0, AUC_ROC_OVO: 1.0, AUC_ROC_OVR: 1.0\n",
      "TEST - Accuracy: 0.9659090909090909, AUC_ROC_OVO: 0.9799607674256328, AUC_ROC_OVR: 0.9800043245309272\n",
      "\n",
      "Decision Tree Manual Encoding\n",
      "training time 0.015 s\n",
      "predict time 0.002 s\n",
      "Confusion matrix: \n",
      "TRAIN - Accuracy: 1.0, AUC_ROC_OVO: 1.0, AUC_ROC_OVR: 1.0\n",
      "TEST - Accuracy: 0.9644886363636364, AUC_ROC_OVO: 0.9790742426029377, AUC_ROC_OVR: 0.9791283020928913\n",
      "\n",
      "Decision Tree Enc + Pairwise\n",
      "training time 0.067 s\n",
      "predict time 0.005 s\n",
      "Confusion matrix: \n",
      "TRAIN - Accuracy: 1.0, AUC_ROC_OVO: 1.0, AUC_ROC_OVR: 1.0\n",
      "TEST - Accuracy: 0.9673295454545454, AUC_ROC_OVO: 0.9809284181570715, AUC_ROC_OVR: 0.980939818121381\n",
      "\n",
      "Best Preprocessing: Enc + Pairwise - Test Accuracy: 0.9673295454545454\n"
     ]
    }
   ],
   "source": [
    "# Model 1 - Decision Tree\n",
    "test = []\n",
    "models = []\n",
    "for i, name in enumerate(preprocessed):\n",
    "    model = DecisionTreeClassifier()\n",
    "    train_results, test_results = train_and_evaluate_classifier(f\"Decision Tree {name}\", model, X_train[i], y_train[i], X_test[i], y_test[i], confusion=False, supress_outputs=False)\n",
    "    test.append(test_results[0])\n",
    "    models.append(model)\n",
    "    print()\n",
    "    \n",
    "test = np.array(test)\n",
    "loc_best_test = np.argmax(test)\n",
    "print(f\"Best Preprocessing: {preprocessed[loc_best_test]} - Test Accuracy: {test[loc_best_test]}\")\n",
    "best_model = models[loc_best_test]\n",
    "dataset = X_train[loc_best_test]"
   ]
  },
  {
   "cell_type": "code",
   "execution_count": 55,
   "id": "5ecc6e6a-e7e7-42b4-a9f9-712f49a24992",
   "metadata": {
    "execution": {
     "iopub.execute_input": "2024-04-23T00:20:40.633376Z",
     "iopub.status.busy": "2024-04-23T00:20:40.633376Z",
     "iopub.status.idle": "2024-04-23T00:21:12.793018Z",
     "shell.execute_reply": "2024-04-23T00:21:12.793018Z",
     "shell.execute_reply.started": "2024-04-23T00:20:40.633376Z"
    }
   },
   "outputs": [
    {
     "name": "stdout",
     "output_type": "stream",
     "text": [
      "Logistic Regression Ordinal\n"
     ]
    },
    {
     "name": "stderr",
     "output_type": "stream",
     "text": [
      "lbfgs failed to converge (status=1):\n",
      "STOP: TOTAL NO. of ITERATIONS REACHED LIMIT.\n",
      "\n",
      "Increase the number of iterations (max_iter) or scale the data as shown in:\n",
      "    https://scikit-learn.org/stable/modules/preprocessing.html\n",
      "Please also refer to the documentation for alternative solver options:\n",
      "    https://scikit-learn.org/stable/modules/linear_model.html#logistic-regression\n"
     ]
    },
    {
     "name": "stdout",
     "output_type": "stream",
     "text": [
      "training time 12.226 s\n",
      "predict time 0.003 s\n",
      "Confusion matrix: \n",
      "TRAIN - Accuracy: 0.8298887122416534, AUC_ROC_OVO: 0.9675872821658935, AUC_ROC_OVR: 0.9708300181562972\n",
      "TEST - Accuracy: 0.8281791907514451, AUC_ROC_OVO: 0.9670783465257955, AUC_ROC_OVR: 0.9703061590913303\n",
      "\n",
      "Logistic Regression Manual Encoding\n"
     ]
    },
    {
     "name": "stderr",
     "output_type": "stream",
     "text": [
      "lbfgs failed to converge (status=1):\n",
      "STOP: TOTAL NO. of ITERATIONS REACHED LIMIT.\n",
      "\n",
      "Increase the number of iterations (max_iter) or scale the data as shown in:\n",
      "    https://scikit-learn.org/stable/modules/preprocessing.html\n",
      "Please also refer to the documentation for alternative solver options:\n",
      "    https://scikit-learn.org/stable/modules/linear_model.html#logistic-regression\n"
     ]
    },
    {
     "name": "stdout",
     "output_type": "stream",
     "text": [
      "training time 13.037 s\n",
      "predict time 0.004 s\n",
      "Confusion matrix: \n",
      "TRAIN - Accuracy: 0.8678277207688972, AUC_ROC_OVO: 0.9779857865253669, AUC_ROC_OVR: 0.9802927638081128\n",
      "TEST - Accuracy: 0.8630057803468208, AUC_ROC_OVO: 0.9773942507230406, AUC_ROC_OVR: 0.9797176023214416\n",
      "\n",
      "Logistic Regression Enc + Pairwise\n",
      "training time 6.364 s\n",
      "predict time 0.019 s\n",
      "Confusion matrix: \n",
      "TRAIN - Accuracy: 0.8764272293684059, AUC_ROC_OVO: 0.9803141080410617, AUC_ROC_OVR: 0.982428514881814\n",
      "TEST - Accuracy: 0.867485549132948, AUC_ROC_OVO: 0.977683089209141, AUC_ROC_OVR: 0.9800117267422153\n",
      "\n",
      "Best Preprocessing: Enc + Pairwise - Test Accuracy: 0.867485549132948\n"
     ]
    }
   ],
   "source": [
    "# Model 2a - Logistic Regression\n",
    "test = []\n",
    "models = []\n",
    "for i, name in enumerate(preprocessed):\n",
    "    model = LogisticRegression(max_iter = 5000)\n",
    "    train_results, test_results = train_and_evaluate_classifier(f\"Logistic Regression {name}\", model, X_train[i], y_train[i], X_test[i], y_test[i], confusion=False, supress_outputs=False)\n",
    "    test.append(test_results[0])\n",
    "    models.append(model)\n",
    "    print()\n",
    "    \n",
    "test = np.array(test)\n",
    "loc_best_test = np.argmax(test)\n",
    "print(f\"Best Preprocessing: {preprocessed[loc_best_test]} - Test Accuracy: {test[loc_best_test]}\")\n",
    "best_model = models[loc_best_test]\n",
    "dataset = X_train[loc_best_test]"
   ]
  },
  {
   "cell_type": "code",
   "execution_count": 56,
   "id": "875b7784-7141-4fe4-b5c3-e24d4ac3fe28",
   "metadata": {
    "execution": {
     "iopub.execute_input": "2024-04-23T00:21:12.794016Z",
     "iopub.status.busy": "2024-04-23T00:21:12.794016Z",
     "iopub.status.idle": "2024-04-23T00:21:14.137752Z",
     "shell.execute_reply": "2024-04-23T00:21:14.137752Z",
     "shell.execute_reply.started": "2024-04-23T00:21:12.794016Z"
    }
   },
   "outputs": [
    {
     "name": "stdout",
     "output_type": "stream",
     "text": [
      "LDA Ordinal\n",
      "training time 0.057 s\n",
      "predict time 0.003 s\n",
      "Confusion matrix: \n",
      "TRAIN - Accuracy: 0.8200607024136436, AUC_ROC_OVO: 0.9670042185158944, AUC_ROC_OVR: 0.9707505261817377\n",
      "TEST - Accuracy: 0.8236994219653179, AUC_ROC_OVO: 0.966802285185989, AUC_ROC_OVR: 0.9705597806994541\n",
      "\n",
      "LDA Manual Encoding\n",
      "training time 0.104 s\n",
      "predict time 0.006 s\n",
      "Confusion matrix: \n",
      "TRAIN - Accuracy: 0.8212892036421449, AUC_ROC_OVO: 0.9702588923781965, AUC_ROC_OVR: 0.9734176164249035\n",
      "TEST - Accuracy: 0.8216763005780346, AUC_ROC_OVO: 0.9706266973984564, AUC_ROC_OVR: 0.9737613166978666\n",
      "\n",
      "LDA Enc + Pairwise\n",
      "training time 0.627 s\n",
      "predict time 0.019 s\n",
      "Confusion matrix: \n",
      "TRAIN - Accuracy: 0.8484607602254661, AUC_ROC_OVO: 0.9744137297465839, AUC_ROC_OVR: 0.9770512060208258\n",
      "TEST - Accuracy: 0.8440751445086705, AUC_ROC_OVO: 0.9732026273232917, AUC_ROC_OVR: 0.9760324500392306\n",
      "\n",
      "Best Preprocessing: Enc + Pairwise - Test Accuracy: 0.8440751445086705\n"
     ]
    }
   ],
   "source": [
    "# Model 6a - LDA\n",
    "test = []\n",
    "models = []\n",
    "for i, name in enumerate(preprocessed):\n",
    "    model = LinearDiscriminantAnalysis()\n",
    "    if sci.sparse.issparse(X_train[i]) == True:\n",
    "        train_results, test_results = train_and_evaluate_classifier(f\"LDA {name}\", model, X_train[i].to_records(), y_train[i], X_test[i], y_test[i], confusion=False, supress_outputs=False)\n",
    "    else:\n",
    "        train_results, test_results = train_and_evaluate_classifier(f\"LDA {name}\", model, X_train[i], y_train[i], X_test[i], y_test[i], confusion=False, supress_outputs=False)\n",
    "    test.append(test_results[0])\n",
    "    models.append(model)\n",
    "    print()\n",
    "    \n",
    "test = np.array(test)\n",
    "loc_best_test = np.argmax(test)\n",
    "print(f\"Best Preprocessing: {preprocessed[loc_best_test]} - Test Accuracy: {test[loc_best_test]}\")\n",
    "best_model = models[loc_best_test]\n",
    "dataset = X_train[loc_best_test]"
   ]
  },
  {
   "cell_type": "code",
   "execution_count": 57,
   "id": "540e0153-4a6f-4dec-9245-08e5af6b5ee0",
   "metadata": {
    "execution": {
     "iopub.execute_input": "2024-04-23T00:21:14.138748Z",
     "iopub.status.busy": "2024-04-23T00:21:14.138748Z",
     "iopub.status.idle": "2024-04-23T00:21:14.168694Z",
     "shell.execute_reply": "2024-04-23T00:21:14.168180Z",
     "shell.execute_reply.started": "2024-04-23T00:21:14.138748Z"
    }
   },
   "outputs": [
    {
     "data": {
      "text/html": [
       "<div>\n",
       "<style scoped>\n",
       "    .dataframe tbody tr th:only-of-type {\n",
       "        vertical-align: middle;\n",
       "    }\n",
       "\n",
       "    .dataframe tbody tr th {\n",
       "        vertical-align: top;\n",
       "    }\n",
       "\n",
       "    .dataframe thead th {\n",
       "        text-align: right;\n",
       "    }\n",
       "</style>\n",
       "<table border=\"1\" class=\"dataframe\">\n",
       "  <thead>\n",
       "    <tr style=\"text-align: right;\">\n",
       "      <th></th>\n",
       "      <th>Age</th>\n",
       "      <th>Height</th>\n",
       "      <th>Weight</th>\n",
       "      <th>FCVC</th>\n",
       "      <th>NCP</th>\n",
       "      <th>CH2O</th>\n",
       "      <th>FAF</th>\n",
       "      <th>TUE</th>\n",
       "      <th>BMI</th>\n",
       "      <th>Age Height</th>\n",
       "      <th>...</th>\n",
       "      <th>MTRANS_Motorbike MTRANS_Public_Transportation</th>\n",
       "      <th>MTRANS_Motorbike MTRANS_Walking</th>\n",
       "      <th>MTRANS_Motorbike Adult_False</th>\n",
       "      <th>MTRANS_Motorbike Adult_True</th>\n",
       "      <th>MTRANS_Public_Transportation MTRANS_Walking</th>\n",
       "      <th>MTRANS_Public_Transportation Adult_False</th>\n",
       "      <th>MTRANS_Public_Transportation Adult_True</th>\n",
       "      <th>MTRANS_Walking Adult_False</th>\n",
       "      <th>MTRANS_Walking Adult_True</th>\n",
       "      <th>Adult_False Adult_True</th>\n",
       "    </tr>\n",
       "  </thead>\n",
       "  <tbody>\n",
       "    <tr>\n",
       "      <th>0</th>\n",
       "      <td>0.105699</td>\n",
       "      <td>-0.002828</td>\n",
       "      <td>-0.235713</td>\n",
       "      <td>-0.836279</td>\n",
       "      <td>0.314684</td>\n",
       "      <td>1.206594</td>\n",
       "      <td>-1.171141</td>\n",
       "      <td>0.597438</td>\n",
       "      <td>-0.237862</td>\n",
       "      <td>0.104173</td>\n",
       "      <td>...</td>\n",
       "      <td>0.0</td>\n",
       "      <td>0.0</td>\n",
       "      <td>0.0</td>\n",
       "      <td>0.0</td>\n",
       "      <td>0.0</td>\n",
       "      <td>0.0</td>\n",
       "      <td>1.0</td>\n",
       "      <td>0.0</td>\n",
       "      <td>0.0</td>\n",
       "      <td>0.0</td>\n",
       "    </tr>\n",
       "    <tr>\n",
       "      <th>1</th>\n",
       "      <td>-1.027052</td>\n",
       "      <td>-1.606291</td>\n",
       "      <td>-1.170931</td>\n",
       "      <td>-0.836279</td>\n",
       "      <td>0.338364</td>\n",
       "      <td>-0.048349</td>\n",
       "      <td>0.021775</td>\n",
       "      <td>0.636513</td>\n",
       "      <td>-0.818331</td>\n",
       "      <td>-1.269171</td>\n",
       "      <td>...</td>\n",
       "      <td>0.0</td>\n",
       "      <td>0.0</td>\n",
       "      <td>0.0</td>\n",
       "      <td>0.0</td>\n",
       "      <td>0.0</td>\n",
       "      <td>0.0</td>\n",
       "      <td>0.0</td>\n",
       "      <td>0.0</td>\n",
       "      <td>0.0</td>\n",
       "      <td>0.0</td>\n",
       "    </tr>\n",
       "    <tr>\n",
       "      <th>2</th>\n",
       "      <td>-1.027052</td>\n",
       "      <td>0.128451</td>\n",
       "      <td>-1.430012</td>\n",
       "      <td>-1.060332</td>\n",
       "      <td>-1.913423</td>\n",
       "      <td>-0.195644</td>\n",
       "      <td>-0.138022</td>\n",
       "      <td>1.755239</td>\n",
       "      <td>-1.573741</td>\n",
       "      <td>-0.991274</td>\n",
       "      <td>...</td>\n",
       "      <td>0.0</td>\n",
       "      <td>0.0</td>\n",
       "      <td>0.0</td>\n",
       "      <td>0.0</td>\n",
       "      <td>0.0</td>\n",
       "      <td>1.0</td>\n",
       "      <td>0.0</td>\n",
       "      <td>0.0</td>\n",
       "      <td>0.0</td>\n",
       "      <td>0.0</td>\n",
       "    </tr>\n",
       "    <tr>\n",
       "      <th>3</th>\n",
       "      <td>-0.507929</td>\n",
       "      <td>0.120090</td>\n",
       "      <td>1.644770</td>\n",
       "      <td>1.039171</td>\n",
       "      <td>0.338364</td>\n",
       "      <td>-0.584035</td>\n",
       "      <td>0.579896</td>\n",
       "      <td>0.271455</td>\n",
       "      <td>1.753591</td>\n",
       "      <td>-0.477718</td>\n",
       "      <td>...</td>\n",
       "      <td>0.0</td>\n",
       "      <td>0.0</td>\n",
       "      <td>0.0</td>\n",
       "      <td>0.0</td>\n",
       "      <td>0.0</td>\n",
       "      <td>0.0</td>\n",
       "      <td>1.0</td>\n",
       "      <td>0.0</td>\n",
       "      <td>0.0</td>\n",
       "      <td>0.0</td>\n",
       "    </tr>\n",
       "    <tr>\n",
       "      <th>4</th>\n",
       "      <td>1.371197</td>\n",
       "      <td>2.450367</td>\n",
       "      <td>0.224054</td>\n",
       "      <td>0.438397</td>\n",
       "      <td>-1.119801</td>\n",
       "      <td>-0.081469</td>\n",
       "      <td>1.176486</td>\n",
       "      <td>0.523111</td>\n",
       "      <td>-0.557096</td>\n",
       "      <td>2.042301</td>\n",
       "      <td>...</td>\n",
       "      <td>0.0</td>\n",
       "      <td>0.0</td>\n",
       "      <td>0.0</td>\n",
       "      <td>0.0</td>\n",
       "      <td>0.0</td>\n",
       "      <td>0.0</td>\n",
       "      <td>1.0</td>\n",
       "      <td>0.0</td>\n",
       "      <td>0.0</td>\n",
       "      <td>0.0</td>\n",
       "    </tr>\n",
       "    <tr>\n",
       "      <th>...</th>\n",
       "      <td>...</td>\n",
       "      <td>...</td>\n",
       "      <td>...</td>\n",
       "      <td>...</td>\n",
       "      <td>...</td>\n",
       "      <td>...</td>\n",
       "      <td>...</td>\n",
       "      <td>...</td>\n",
       "      <td>...</td>\n",
       "      <td>...</td>\n",
       "      <td>...</td>\n",
       "      <td>...</td>\n",
       "      <td>...</td>\n",
       "      <td>...</td>\n",
       "      <td>...</td>\n",
       "      <td>...</td>\n",
       "      <td>...</td>\n",
       "      <td>...</td>\n",
       "      <td>...</td>\n",
       "      <td>...</td>\n",
       "      <td>...</td>\n",
       "    </tr>\n",
       "    <tr>\n",
       "      <th>20753</th>\n",
       "      <td>0.227725</td>\n",
       "      <td>0.760293</td>\n",
       "      <td>0.996987</td>\n",
       "      <td>0.888355</td>\n",
       "      <td>0.338364</td>\n",
       "      <td>0.201151</td>\n",
       "      <td>0.416056</td>\n",
       "      <td>-0.697686</td>\n",
       "      <td>0.761393</td>\n",
       "      <td>0.395166</td>\n",
       "      <td>...</td>\n",
       "      <td>0.0</td>\n",
       "      <td>0.0</td>\n",
       "      <td>0.0</td>\n",
       "      <td>0.0</td>\n",
       "      <td>0.0</td>\n",
       "      <td>0.0</td>\n",
       "      <td>1.0</td>\n",
       "      <td>0.0</td>\n",
       "      <td>0.0</td>\n",
       "      <td>0.0</td>\n",
       "    </tr>\n",
       "    <tr>\n",
       "      <th>20754</th>\n",
       "      <td>-1.027052</td>\n",
       "      <td>0.111729</td>\n",
       "      <td>-1.436296</td>\n",
       "      <td>1.039171</td>\n",
       "      <td>1.756085</td>\n",
       "      <td>-1.691863</td>\n",
       "      <td>1.214691</td>\n",
       "      <td>0.636513</td>\n",
       "      <td>-1.577032</td>\n",
       "      <td>-0.993953</td>\n",
       "      <td>...</td>\n",
       "      <td>0.0</td>\n",
       "      <td>0.0</td>\n",
       "      <td>0.0</td>\n",
       "      <td>0.0</td>\n",
       "      <td>0.0</td>\n",
       "      <td>1.0</td>\n",
       "      <td>0.0</td>\n",
       "      <td>0.0</td>\n",
       "      <td>0.0</td>\n",
       "      <td>0.0</td>\n",
       "    </tr>\n",
       "    <tr>\n",
       "      <th>20755</th>\n",
       "      <td>-0.657669</td>\n",
       "      <td>1.366537</td>\n",
       "      <td>0.670717</td>\n",
       "      <td>-0.071439</td>\n",
       "      <td>0.338364</td>\n",
       "      <td>-0.048349</td>\n",
       "      <td>0.210303</td>\n",
       "      <td>0.966092</td>\n",
       "      <td>0.197750</td>\n",
       "      <td>-0.403258</td>\n",
       "      <td>...</td>\n",
       "      <td>0.0</td>\n",
       "      <td>0.0</td>\n",
       "      <td>0.0</td>\n",
       "      <td>0.0</td>\n",
       "      <td>0.0</td>\n",
       "      <td>0.0</td>\n",
       "      <td>1.0</td>\n",
       "      <td>0.0</td>\n",
       "      <td>0.0</td>\n",
       "      <td>0.0</td>\n",
       "    </tr>\n",
       "    <tr>\n",
       "      <th>20756</th>\n",
       "      <td>1.760067</td>\n",
       "      <td>-0.002805</td>\n",
       "      <td>-0.165574</td>\n",
       "      <td>0.422594</td>\n",
       "      <td>-1.119801</td>\n",
       "      <td>0.189694</td>\n",
       "      <td>-1.171141</td>\n",
       "      <td>0.593055</td>\n",
       "      <td>-0.161050</td>\n",
       "      <td>1.734782</td>\n",
       "      <td>...</td>\n",
       "      <td>0.0</td>\n",
       "      <td>0.0</td>\n",
       "      <td>0.0</td>\n",
       "      <td>0.0</td>\n",
       "      <td>0.0</td>\n",
       "      <td>0.0</td>\n",
       "      <td>0.0</td>\n",
       "      <td>0.0</td>\n",
       "      <td>0.0</td>\n",
       "      <td>0.0</td>\n",
       "    </tr>\n",
       "    <tr>\n",
       "      <th>20757</th>\n",
       "      <td>0.499051</td>\n",
       "      <td>1.332062</td>\n",
       "      <td>1.146645</td>\n",
       "      <td>1.039171</td>\n",
       "      <td>0.338364</td>\n",
       "      <td>-0.042493</td>\n",
       "      <td>-0.354606</td>\n",
       "      <td>0.161214</td>\n",
       "      <td>0.666966</td>\n",
       "      <td>0.808841</td>\n",
       "      <td>...</td>\n",
       "      <td>0.0</td>\n",
       "      <td>0.0</td>\n",
       "      <td>0.0</td>\n",
       "      <td>0.0</td>\n",
       "      <td>0.0</td>\n",
       "      <td>0.0</td>\n",
       "      <td>1.0</td>\n",
       "      <td>0.0</td>\n",
       "      <td>0.0</td>\n",
       "      <td>0.0</td>\n",
       "    </tr>\n",
       "  </tbody>\n",
       "</table>\n",
       "<p>20758 rows × 198 columns</p>\n",
       "</div>"
      ],
      "text/plain": [
       "            Age    Height    Weight      FCVC       NCP      CH2O       FAF  \\\n",
       "0      0.105699 -0.002828 -0.235713 -0.836279  0.314684  1.206594 -1.171141   \n",
       "1     -1.027052 -1.606291 -1.170931 -0.836279  0.338364 -0.048349  0.021775   \n",
       "2     -1.027052  0.128451 -1.430012 -1.060332 -1.913423 -0.195644 -0.138022   \n",
       "3     -0.507929  0.120090  1.644770  1.039171  0.338364 -0.584035  0.579896   \n",
       "4      1.371197  2.450367  0.224054  0.438397 -1.119801 -0.081469  1.176486   \n",
       "...         ...       ...       ...       ...       ...       ...       ...   \n",
       "20753  0.227725  0.760293  0.996987  0.888355  0.338364  0.201151  0.416056   \n",
       "20754 -1.027052  0.111729 -1.436296  1.039171  1.756085 -1.691863  1.214691   \n",
       "20755 -0.657669  1.366537  0.670717 -0.071439  0.338364 -0.048349  0.210303   \n",
       "20756  1.760067 -0.002805 -0.165574  0.422594 -1.119801  0.189694 -1.171141   \n",
       "20757  0.499051  1.332062  1.146645  1.039171  0.338364 -0.042493 -0.354606   \n",
       "\n",
       "            TUE       BMI  Age Height  ...  \\\n",
       "0      0.597438 -0.237862    0.104173  ...   \n",
       "1      0.636513 -0.818331   -1.269171  ...   \n",
       "2      1.755239 -1.573741   -0.991274  ...   \n",
       "3      0.271455  1.753591   -0.477718  ...   \n",
       "4      0.523111 -0.557096    2.042301  ...   \n",
       "...         ...       ...         ...  ...   \n",
       "20753 -0.697686  0.761393    0.395166  ...   \n",
       "20754  0.636513 -1.577032   -0.993953  ...   \n",
       "20755  0.966092  0.197750   -0.403258  ...   \n",
       "20756  0.593055 -0.161050    1.734782  ...   \n",
       "20757  0.161214  0.666966    0.808841  ...   \n",
       "\n",
       "       MTRANS_Motorbike MTRANS_Public_Transportation  \\\n",
       "0                                                0.0   \n",
       "1                                                0.0   \n",
       "2                                                0.0   \n",
       "3                                                0.0   \n",
       "4                                                0.0   \n",
       "...                                              ...   \n",
       "20753                                            0.0   \n",
       "20754                                            0.0   \n",
       "20755                                            0.0   \n",
       "20756                                            0.0   \n",
       "20757                                            0.0   \n",
       "\n",
       "       MTRANS_Motorbike MTRANS_Walking  MTRANS_Motorbike Adult_False  \\\n",
       "0                                  0.0                           0.0   \n",
       "1                                  0.0                           0.0   \n",
       "2                                  0.0                           0.0   \n",
       "3                                  0.0                           0.0   \n",
       "4                                  0.0                           0.0   \n",
       "...                                ...                           ...   \n",
       "20753                              0.0                           0.0   \n",
       "20754                              0.0                           0.0   \n",
       "20755                              0.0                           0.0   \n",
       "20756                              0.0                           0.0   \n",
       "20757                              0.0                           0.0   \n",
       "\n",
       "       MTRANS_Motorbike Adult_True  \\\n",
       "0                              0.0   \n",
       "1                              0.0   \n",
       "2                              0.0   \n",
       "3                              0.0   \n",
       "4                              0.0   \n",
       "...                            ...   \n",
       "20753                          0.0   \n",
       "20754                          0.0   \n",
       "20755                          0.0   \n",
       "20756                          0.0   \n",
       "20757                          0.0   \n",
       "\n",
       "       MTRANS_Public_Transportation MTRANS_Walking  \\\n",
       "0                                              0.0   \n",
       "1                                              0.0   \n",
       "2                                              0.0   \n",
       "3                                              0.0   \n",
       "4                                              0.0   \n",
       "...                                            ...   \n",
       "20753                                          0.0   \n",
       "20754                                          0.0   \n",
       "20755                                          0.0   \n",
       "20756                                          0.0   \n",
       "20757                                          0.0   \n",
       "\n",
       "       MTRANS_Public_Transportation Adult_False  \\\n",
       "0                                           0.0   \n",
       "1                                           0.0   \n",
       "2                                           1.0   \n",
       "3                                           0.0   \n",
       "4                                           0.0   \n",
       "...                                         ...   \n",
       "20753                                       0.0   \n",
       "20754                                       1.0   \n",
       "20755                                       0.0   \n",
       "20756                                       0.0   \n",
       "20757                                       0.0   \n",
       "\n",
       "       MTRANS_Public_Transportation Adult_True  MTRANS_Walking Adult_False  \\\n",
       "0                                          1.0                         0.0   \n",
       "1                                          0.0                         0.0   \n",
       "2                                          0.0                         0.0   \n",
       "3                                          1.0                         0.0   \n",
       "4                                          1.0                         0.0   \n",
       "...                                        ...                         ...   \n",
       "20753                                      1.0                         0.0   \n",
       "20754                                      0.0                         0.0   \n",
       "20755                                      1.0                         0.0   \n",
       "20756                                      0.0                         0.0   \n",
       "20757                                      1.0                         0.0   \n",
       "\n",
       "       MTRANS_Walking Adult_True  Adult_False Adult_True  \n",
       "0                            0.0                     0.0  \n",
       "1                            0.0                     0.0  \n",
       "2                            0.0                     0.0  \n",
       "3                            0.0                     0.0  \n",
       "4                            0.0                     0.0  \n",
       "...                          ...                     ...  \n",
       "20753                        0.0                     0.0  \n",
       "20754                        0.0                     0.0  \n",
       "20755                        0.0                     0.0  \n",
       "20756                        0.0                     0.0  \n",
       "20757                        0.0                     0.0  \n",
       "\n",
       "[20758 rows x 198 columns]"
      ]
     },
     "execution_count": 57,
     "metadata": {},
     "output_type": "execute_result"
    }
   ],
   "source": [
    "X"
   ]
  },
  {
   "cell_type": "code",
   "execution_count": 58,
   "id": "dd44d601-f69f-49ad-a748-62fbb2052185",
   "metadata": {
    "execution": {
     "iopub.execute_input": "2024-04-23T00:21:14.169684Z",
     "iopub.status.busy": "2024-04-23T00:21:14.169684Z",
     "iopub.status.idle": "2024-04-23T00:21:14.174413Z",
     "shell.execute_reply": "2024-04-23T00:21:14.174413Z",
     "shell.execute_reply.started": "2024-04-23T00:21:14.169684Z"
    }
   },
   "outputs": [
    {
     "name": "stdout",
     "output_type": "stream",
     "text": [
      "['numerical', 'Age']\n",
      "['numerical', 'Height']\n",
      "['numerical', 'Weight']\n",
      "['numerical', 'FCVC']\n",
      "['numerical', 'NCP']\n",
      "['numerical', 'CH2O']\n",
      "['numerical', 'FAF']\n",
      "['numerical', 'TUE']\n",
      "['numerical', 'BMI']\n",
      "['ordinal', 'CAEC']\n",
      "['ordinal', 'CALC']\n",
      "['ordinal', 'Adult BMI Predictions']\n",
      "['ordinal', 'WHO BMI Predictions']\n",
      "['ordinal', 'CDC BMI Predictions']\n",
      "['nominal', 'Gender_Female']\n",
      "['nominal', 'Gender_Male']\n",
      "['nominal', 'family_history_with_overweight_no']\n",
      "['nominal', 'family_history_with_overweight_yes']\n",
      "['nominal', 'FAVC_no']\n",
      "['nominal', 'FAVC_yes']\n",
      "['nominal', 'SMOKE_no']\n",
      "['nominal', 'SMOKE_yes']\n",
      "['nominal', 'SCC_no']\n",
      "['nominal', 'SCC_yes']\n",
      "['nominal', 'MTRANS_Automobile']\n",
      "['nominal', 'MTRANS_Bike']\n",
      "['nominal', 'MTRANS_Motorbike']\n",
      "['nominal', 'MTRANS_Public_Transportation']\n",
      "['nominal', 'MTRANS_Walking']\n",
      "['nominal', 'Adult_False']\n",
      "['nominal', 'Adult_True']\n"
     ]
    }
   ],
   "source": [
    "test = X_enc.columns[0]\n",
    "for name in X_enc.columns:\n",
    "    print(name.split('__'))"
   ]
  },
  {
   "cell_type": "code",
   "execution_count": 59,
   "id": "488e3740-07f1-4b3a-9139-a72cdee5a666",
   "metadata": {
    "execution": {
     "iopub.execute_input": "2024-04-23T00:21:14.175410Z",
     "iopub.status.busy": "2024-04-23T00:21:14.175410Z",
     "iopub.status.idle": "2024-04-23T00:21:14.217630Z",
     "shell.execute_reply": "2024-04-23T00:21:14.217053Z",
     "shell.execute_reply.started": "2024-04-23T00:21:14.175410Z"
    }
   },
   "outputs": [
    {
     "data": {
      "text/html": [
       "<div>\n",
       "<style scoped>\n",
       "    .dataframe tbody tr th:only-of-type {\n",
       "        vertical-align: middle;\n",
       "    }\n",
       "\n",
       "    .dataframe tbody tr th {\n",
       "        vertical-align: top;\n",
       "    }\n",
       "\n",
       "    .dataframe thead th {\n",
       "        text-align: right;\n",
       "    }\n",
       "</style>\n",
       "<table border=\"1\" class=\"dataframe\">\n",
       "  <thead>\n",
       "    <tr style=\"text-align: right;\">\n",
       "      <th></th>\n",
       "      <th>Age</th>\n",
       "      <th>Height</th>\n",
       "      <th>Weight</th>\n",
       "      <th>FCVC</th>\n",
       "      <th>NCP</th>\n",
       "      <th>CH2O</th>\n",
       "      <th>FAF</th>\n",
       "      <th>TUE</th>\n",
       "      <th>BMI</th>\n",
       "      <th>Age Height</th>\n",
       "      <th>...</th>\n",
       "      <th>MTRANS_Motorbike MTRANS_Public_Transportation</th>\n",
       "      <th>MTRANS_Motorbike MTRANS_Walking</th>\n",
       "      <th>MTRANS_Motorbike Adult_False</th>\n",
       "      <th>MTRANS_Motorbike Adult_True</th>\n",
       "      <th>MTRANS_Public_Transportation MTRANS_Walking</th>\n",
       "      <th>MTRANS_Public_Transportation Adult_False</th>\n",
       "      <th>MTRANS_Public_Transportation Adult_True</th>\n",
       "      <th>MTRANS_Walking Adult_False</th>\n",
       "      <th>MTRANS_Walking Adult_True</th>\n",
       "      <th>Adult_False Adult_True</th>\n",
       "    </tr>\n",
       "  </thead>\n",
       "  <tbody>\n",
       "    <tr>\n",
       "      <th>0</th>\n",
       "      <td>0.105699</td>\n",
       "      <td>-0.002828</td>\n",
       "      <td>-0.235713</td>\n",
       "      <td>-0.836279</td>\n",
       "      <td>0.314684</td>\n",
       "      <td>1.206594</td>\n",
       "      <td>-1.171141</td>\n",
       "      <td>0.597438</td>\n",
       "      <td>-0.237862</td>\n",
       "      <td>0.104173</td>\n",
       "      <td>...</td>\n",
       "      <td>0.0</td>\n",
       "      <td>0.0</td>\n",
       "      <td>0.0</td>\n",
       "      <td>0.0</td>\n",
       "      <td>0.0</td>\n",
       "      <td>0.0</td>\n",
       "      <td>1.0</td>\n",
       "      <td>0.0</td>\n",
       "      <td>0.0</td>\n",
       "      <td>0.0</td>\n",
       "    </tr>\n",
       "    <tr>\n",
       "      <th>1</th>\n",
       "      <td>-1.027052</td>\n",
       "      <td>-1.606291</td>\n",
       "      <td>-1.170931</td>\n",
       "      <td>-0.836279</td>\n",
       "      <td>0.338364</td>\n",
       "      <td>-0.048349</td>\n",
       "      <td>0.021775</td>\n",
       "      <td>0.636513</td>\n",
       "      <td>-0.818331</td>\n",
       "      <td>-1.269171</td>\n",
       "      <td>...</td>\n",
       "      <td>0.0</td>\n",
       "      <td>0.0</td>\n",
       "      <td>0.0</td>\n",
       "      <td>0.0</td>\n",
       "      <td>0.0</td>\n",
       "      <td>0.0</td>\n",
       "      <td>0.0</td>\n",
       "      <td>0.0</td>\n",
       "      <td>0.0</td>\n",
       "      <td>0.0</td>\n",
       "    </tr>\n",
       "    <tr>\n",
       "      <th>2</th>\n",
       "      <td>-1.027052</td>\n",
       "      <td>0.128451</td>\n",
       "      <td>-1.430012</td>\n",
       "      <td>-1.060332</td>\n",
       "      <td>-1.913423</td>\n",
       "      <td>-0.195644</td>\n",
       "      <td>-0.138022</td>\n",
       "      <td>1.755239</td>\n",
       "      <td>-1.573741</td>\n",
       "      <td>-0.991274</td>\n",
       "      <td>...</td>\n",
       "      <td>0.0</td>\n",
       "      <td>0.0</td>\n",
       "      <td>0.0</td>\n",
       "      <td>0.0</td>\n",
       "      <td>0.0</td>\n",
       "      <td>1.0</td>\n",
       "      <td>0.0</td>\n",
       "      <td>0.0</td>\n",
       "      <td>0.0</td>\n",
       "      <td>0.0</td>\n",
       "    </tr>\n",
       "    <tr>\n",
       "      <th>3</th>\n",
       "      <td>-0.507929</td>\n",
       "      <td>0.120090</td>\n",
       "      <td>1.644770</td>\n",
       "      <td>1.039171</td>\n",
       "      <td>0.338364</td>\n",
       "      <td>-0.584035</td>\n",
       "      <td>0.579896</td>\n",
       "      <td>0.271455</td>\n",
       "      <td>1.753591</td>\n",
       "      <td>-0.477718</td>\n",
       "      <td>...</td>\n",
       "      <td>0.0</td>\n",
       "      <td>0.0</td>\n",
       "      <td>0.0</td>\n",
       "      <td>0.0</td>\n",
       "      <td>0.0</td>\n",
       "      <td>0.0</td>\n",
       "      <td>1.0</td>\n",
       "      <td>0.0</td>\n",
       "      <td>0.0</td>\n",
       "      <td>0.0</td>\n",
       "    </tr>\n",
       "    <tr>\n",
       "      <th>4</th>\n",
       "      <td>1.371197</td>\n",
       "      <td>2.450367</td>\n",
       "      <td>0.224054</td>\n",
       "      <td>0.438397</td>\n",
       "      <td>-1.119801</td>\n",
       "      <td>-0.081469</td>\n",
       "      <td>1.176486</td>\n",
       "      <td>0.523111</td>\n",
       "      <td>-0.557096</td>\n",
       "      <td>2.042301</td>\n",
       "      <td>...</td>\n",
       "      <td>0.0</td>\n",
       "      <td>0.0</td>\n",
       "      <td>0.0</td>\n",
       "      <td>0.0</td>\n",
       "      <td>0.0</td>\n",
       "      <td>0.0</td>\n",
       "      <td>1.0</td>\n",
       "      <td>0.0</td>\n",
       "      <td>0.0</td>\n",
       "      <td>0.0</td>\n",
       "    </tr>\n",
       "    <tr>\n",
       "      <th>...</th>\n",
       "      <td>...</td>\n",
       "      <td>...</td>\n",
       "      <td>...</td>\n",
       "      <td>...</td>\n",
       "      <td>...</td>\n",
       "      <td>...</td>\n",
       "      <td>...</td>\n",
       "      <td>...</td>\n",
       "      <td>...</td>\n",
       "      <td>...</td>\n",
       "      <td>...</td>\n",
       "      <td>...</td>\n",
       "      <td>...</td>\n",
       "      <td>...</td>\n",
       "      <td>...</td>\n",
       "      <td>...</td>\n",
       "      <td>...</td>\n",
       "      <td>...</td>\n",
       "      <td>...</td>\n",
       "      <td>...</td>\n",
       "      <td>...</td>\n",
       "    </tr>\n",
       "    <tr>\n",
       "      <th>20753</th>\n",
       "      <td>0.227725</td>\n",
       "      <td>0.760293</td>\n",
       "      <td>0.996987</td>\n",
       "      <td>0.888355</td>\n",
       "      <td>0.338364</td>\n",
       "      <td>0.201151</td>\n",
       "      <td>0.416056</td>\n",
       "      <td>-0.697686</td>\n",
       "      <td>0.761393</td>\n",
       "      <td>0.395166</td>\n",
       "      <td>...</td>\n",
       "      <td>0.0</td>\n",
       "      <td>0.0</td>\n",
       "      <td>0.0</td>\n",
       "      <td>0.0</td>\n",
       "      <td>0.0</td>\n",
       "      <td>0.0</td>\n",
       "      <td>1.0</td>\n",
       "      <td>0.0</td>\n",
       "      <td>0.0</td>\n",
       "      <td>0.0</td>\n",
       "    </tr>\n",
       "    <tr>\n",
       "      <th>20754</th>\n",
       "      <td>-1.027052</td>\n",
       "      <td>0.111729</td>\n",
       "      <td>-1.436296</td>\n",
       "      <td>1.039171</td>\n",
       "      <td>1.756085</td>\n",
       "      <td>-1.691863</td>\n",
       "      <td>1.214691</td>\n",
       "      <td>0.636513</td>\n",
       "      <td>-1.577032</td>\n",
       "      <td>-0.993953</td>\n",
       "      <td>...</td>\n",
       "      <td>0.0</td>\n",
       "      <td>0.0</td>\n",
       "      <td>0.0</td>\n",
       "      <td>0.0</td>\n",
       "      <td>0.0</td>\n",
       "      <td>1.0</td>\n",
       "      <td>0.0</td>\n",
       "      <td>0.0</td>\n",
       "      <td>0.0</td>\n",
       "      <td>0.0</td>\n",
       "    </tr>\n",
       "    <tr>\n",
       "      <th>20755</th>\n",
       "      <td>-0.657669</td>\n",
       "      <td>1.366537</td>\n",
       "      <td>0.670717</td>\n",
       "      <td>-0.071439</td>\n",
       "      <td>0.338364</td>\n",
       "      <td>-0.048349</td>\n",
       "      <td>0.210303</td>\n",
       "      <td>0.966092</td>\n",
       "      <td>0.197750</td>\n",
       "      <td>-0.403258</td>\n",
       "      <td>...</td>\n",
       "      <td>0.0</td>\n",
       "      <td>0.0</td>\n",
       "      <td>0.0</td>\n",
       "      <td>0.0</td>\n",
       "      <td>0.0</td>\n",
       "      <td>0.0</td>\n",
       "      <td>1.0</td>\n",
       "      <td>0.0</td>\n",
       "      <td>0.0</td>\n",
       "      <td>0.0</td>\n",
       "    </tr>\n",
       "    <tr>\n",
       "      <th>20756</th>\n",
       "      <td>1.760067</td>\n",
       "      <td>-0.002805</td>\n",
       "      <td>-0.165574</td>\n",
       "      <td>0.422594</td>\n",
       "      <td>-1.119801</td>\n",
       "      <td>0.189694</td>\n",
       "      <td>-1.171141</td>\n",
       "      <td>0.593055</td>\n",
       "      <td>-0.161050</td>\n",
       "      <td>1.734782</td>\n",
       "      <td>...</td>\n",
       "      <td>0.0</td>\n",
       "      <td>0.0</td>\n",
       "      <td>0.0</td>\n",
       "      <td>0.0</td>\n",
       "      <td>0.0</td>\n",
       "      <td>0.0</td>\n",
       "      <td>0.0</td>\n",
       "      <td>0.0</td>\n",
       "      <td>0.0</td>\n",
       "      <td>0.0</td>\n",
       "    </tr>\n",
       "    <tr>\n",
       "      <th>20757</th>\n",
       "      <td>0.499051</td>\n",
       "      <td>1.332062</td>\n",
       "      <td>1.146645</td>\n",
       "      <td>1.039171</td>\n",
       "      <td>0.338364</td>\n",
       "      <td>-0.042493</td>\n",
       "      <td>-0.354606</td>\n",
       "      <td>0.161214</td>\n",
       "      <td>0.666966</td>\n",
       "      <td>0.808841</td>\n",
       "      <td>...</td>\n",
       "      <td>0.0</td>\n",
       "      <td>0.0</td>\n",
       "      <td>0.0</td>\n",
       "      <td>0.0</td>\n",
       "      <td>0.0</td>\n",
       "      <td>0.0</td>\n",
       "      <td>1.0</td>\n",
       "      <td>0.0</td>\n",
       "      <td>0.0</td>\n",
       "      <td>0.0</td>\n",
       "    </tr>\n",
       "  </tbody>\n",
       "</table>\n",
       "<p>20758 rows × 198 columns</p>\n",
       "</div>"
      ],
      "text/plain": [
       "            Age    Height    Weight      FCVC       NCP      CH2O       FAF  \\\n",
       "0      0.105699 -0.002828 -0.235713 -0.836279  0.314684  1.206594 -1.171141   \n",
       "1     -1.027052 -1.606291 -1.170931 -0.836279  0.338364 -0.048349  0.021775   \n",
       "2     -1.027052  0.128451 -1.430012 -1.060332 -1.913423 -0.195644 -0.138022   \n",
       "3     -0.507929  0.120090  1.644770  1.039171  0.338364 -0.584035  0.579896   \n",
       "4      1.371197  2.450367  0.224054  0.438397 -1.119801 -0.081469  1.176486   \n",
       "...         ...       ...       ...       ...       ...       ...       ...   \n",
       "20753  0.227725  0.760293  0.996987  0.888355  0.338364  0.201151  0.416056   \n",
       "20754 -1.027052  0.111729 -1.436296  1.039171  1.756085 -1.691863  1.214691   \n",
       "20755 -0.657669  1.366537  0.670717 -0.071439  0.338364 -0.048349  0.210303   \n",
       "20756  1.760067 -0.002805 -0.165574  0.422594 -1.119801  0.189694 -1.171141   \n",
       "20757  0.499051  1.332062  1.146645  1.039171  0.338364 -0.042493 -0.354606   \n",
       "\n",
       "            TUE       BMI  Age Height  ...  \\\n",
       "0      0.597438 -0.237862    0.104173  ...   \n",
       "1      0.636513 -0.818331   -1.269171  ...   \n",
       "2      1.755239 -1.573741   -0.991274  ...   \n",
       "3      0.271455  1.753591   -0.477718  ...   \n",
       "4      0.523111 -0.557096    2.042301  ...   \n",
       "...         ...       ...         ...  ...   \n",
       "20753 -0.697686  0.761393    0.395166  ...   \n",
       "20754  0.636513 -1.577032   -0.993953  ...   \n",
       "20755  0.966092  0.197750   -0.403258  ...   \n",
       "20756  0.593055 -0.161050    1.734782  ...   \n",
       "20757  0.161214  0.666966    0.808841  ...   \n",
       "\n",
       "       MTRANS_Motorbike MTRANS_Public_Transportation  \\\n",
       "0                                                0.0   \n",
       "1                                                0.0   \n",
       "2                                                0.0   \n",
       "3                                                0.0   \n",
       "4                                                0.0   \n",
       "...                                              ...   \n",
       "20753                                            0.0   \n",
       "20754                                            0.0   \n",
       "20755                                            0.0   \n",
       "20756                                            0.0   \n",
       "20757                                            0.0   \n",
       "\n",
       "       MTRANS_Motorbike MTRANS_Walking  MTRANS_Motorbike Adult_False  \\\n",
       "0                                  0.0                           0.0   \n",
       "1                                  0.0                           0.0   \n",
       "2                                  0.0                           0.0   \n",
       "3                                  0.0                           0.0   \n",
       "4                                  0.0                           0.0   \n",
       "...                                ...                           ...   \n",
       "20753                              0.0                           0.0   \n",
       "20754                              0.0                           0.0   \n",
       "20755                              0.0                           0.0   \n",
       "20756                              0.0                           0.0   \n",
       "20757                              0.0                           0.0   \n",
       "\n",
       "       MTRANS_Motorbike Adult_True  \\\n",
       "0                              0.0   \n",
       "1                              0.0   \n",
       "2                              0.0   \n",
       "3                              0.0   \n",
       "4                              0.0   \n",
       "...                            ...   \n",
       "20753                          0.0   \n",
       "20754                          0.0   \n",
       "20755                          0.0   \n",
       "20756                          0.0   \n",
       "20757                          0.0   \n",
       "\n",
       "       MTRANS_Public_Transportation MTRANS_Walking  \\\n",
       "0                                              0.0   \n",
       "1                                              0.0   \n",
       "2                                              0.0   \n",
       "3                                              0.0   \n",
       "4                                              0.0   \n",
       "...                                            ...   \n",
       "20753                                          0.0   \n",
       "20754                                          0.0   \n",
       "20755                                          0.0   \n",
       "20756                                          0.0   \n",
       "20757                                          0.0   \n",
       "\n",
       "       MTRANS_Public_Transportation Adult_False  \\\n",
       "0                                           0.0   \n",
       "1                                           0.0   \n",
       "2                                           1.0   \n",
       "3                                           0.0   \n",
       "4                                           0.0   \n",
       "...                                         ...   \n",
       "20753                                       0.0   \n",
       "20754                                       1.0   \n",
       "20755                                       0.0   \n",
       "20756                                       0.0   \n",
       "20757                                       0.0   \n",
       "\n",
       "       MTRANS_Public_Transportation Adult_True  MTRANS_Walking Adult_False  \\\n",
       "0                                          1.0                         0.0   \n",
       "1                                          0.0                         0.0   \n",
       "2                                          0.0                         0.0   \n",
       "3                                          1.0                         0.0   \n",
       "4                                          1.0                         0.0   \n",
       "...                                        ...                         ...   \n",
       "20753                                      1.0                         0.0   \n",
       "20754                                      0.0                         0.0   \n",
       "20755                                      1.0                         0.0   \n",
       "20756                                      0.0                         0.0   \n",
       "20757                                      1.0                         0.0   \n",
       "\n",
       "       MTRANS_Walking Adult_True  Adult_False Adult_True  \n",
       "0                            0.0                     0.0  \n",
       "1                            0.0                     0.0  \n",
       "2                            0.0                     0.0  \n",
       "3                            0.0                     0.0  \n",
       "4                            0.0                     0.0  \n",
       "...                          ...                     ...  \n",
       "20753                        0.0                     0.0  \n",
       "20754                        0.0                     0.0  \n",
       "20755                        0.0                     0.0  \n",
       "20756                        0.0                     0.0  \n",
       "20757                        0.0                     0.0  \n",
       "\n",
       "[20758 rows x 198 columns]"
      ]
     },
     "execution_count": 59,
     "metadata": {},
     "output_type": "execute_result"
    }
   ],
   "source": [
    "X_enc2"
   ]
  },
  {
   "cell_type": "code",
   "execution_count": null,
   "id": "4b599d68-dd8e-473d-89d1-8799f40aadd5",
   "metadata": {},
   "outputs": [],
   "source": []
  }
 ],
 "metadata": {
  "kernelspec": {
   "display_name": "Python 3 (ipykernel)",
   "language": "python",
   "name": "python3"
  },
  "language_info": {
   "codemirror_mode": {
    "name": "ipython",
    "version": 3
   },
   "file_extension": ".py",
   "mimetype": "text/x-python",
   "name": "python",
   "nbconvert_exporter": "python",
   "pygments_lexer": "ipython3",
   "version": "3.11.5"
  }
 },
 "nbformat": 4,
 "nbformat_minor": 5
}
